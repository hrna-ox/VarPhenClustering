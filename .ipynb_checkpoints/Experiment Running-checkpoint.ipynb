{
 "cells": [
  {
   "cell_type": "code",
   "execution_count": 1,
   "id": "afe22435",
   "metadata": {},
   "outputs": [],
   "source": [
    "import json\n",
    "import matplotlib.pyplot as plt\n",
    "\n",
    "from src.data_processing.data_loader import data_loader\n",
    "import src.training.training_utils as training_utils\n",
    "# from src.results.main import evaluate\n",
    "# import src.visualisation.main as vis_main\n"
   ]
  },
  {
   "cell_type": "code",
   "execution_count": 163,
   "id": "7b86d951",
   "metadata": {},
   "outputs": [],
   "source": [
    "with open(\"src/training/run_config.json\", \"r\") as f:\n",
    "    run_config = json.load(f)\n",
    "    f.close()\n",
    "\n",
    "# Extract info\n",
    "data_config = run_config[\"data_config\"]\n",
    "model_config = run_config[\"model_config\"]\n",
    "training_config = run_config[\"training_config\"]"
   ]
  },
  {
   "cell_type": "code",
   "execution_count": 3,
   "id": "0b8c9a00",
   "metadata": {},
   "outputs": [
    {
     "name": "stdout",
     "output_type": "stream",
     "text": [
      "{'data_config': {'data_name': 'MIMIC', 'target_window': 12, 'feat_set': 'vit-sta', 'time_range': [0, 10], 'train_test_ratio': 0.6, 'train_val_ratio': 0.4, 'seed': 2323}, 'model_config': {'model_name': 'DirVRNN', 'latent_size': 10, 'gate_layers': 2, 'gate_nodes': 20, 'feat_extr_layers': 2, 'feat_extr_nodes': 20, 'num_clus': 2}, 'training_config': {'lr': 0.001, 'epochs': 5, 'bs': 128}}\n"
     ]
    }
   ],
   "source": [
    "print(run_config)"
   ]
  },
  {
   "cell_type": "code",
   "execution_count": 5,
   "id": "3d6749d0",
   "metadata": {},
   "outputs": [
    {
     "data": {
      "text/plain": [
       "<module 'src.data_processing.data_loader' from 'C:\\\\Users\\\\hruia\\\\PycharmProjects\\\\VarPhenClustering\\\\src\\\\data_processing\\\\data_loader.py'>"
      ]
     },
     "execution_count": 5,
     "metadata": {},
     "output_type": "execute_result"
    }
   ],
   "source": [
    "from importlib import reload\n",
    "import src.data_processing.data_loader as loader\n",
    "reload(loader)"
   ]
  },
  {
   "cell_type": "code",
   "execution_count": 6,
   "id": "ed2290cd",
   "metadata": {},
   "outputs": [
    {
     "name": "stderr",
     "output_type": "stream",
     "text": [
      "C:\\Users\\hruia\\PycharmProjects\\VarPhenClustering\\src\\data_processing\\data_loading_utils.py:453: FutureWarning: is_monotonic is deprecated and will be removed in a future version. Use is_monotonic_increasing instead.\n",
      "  cond1 = X[self.id_col].is_monotonic\n"
     ]
    },
    {
     "name": "stdout",
     "output_type": "stream",
     "text": [
      "\n",
      "MIMIC data has been subsettted to the following features: \n",
      " ['DBP', 'ESI', 'HR', 'RR', 'SBP', 'SPO2', 'TEMP', 'age', 'gender'].\n"
     ]
    },
    {
     "name": "stderr",
     "output_type": "stream",
     "text": [
      "100%|█████████████████████████████████████████████████████████████████████████████████████████████████████████████████████████████████████████████████████████████████████████████████████████████| 8911/8911 [00:34<00:00, 261.31it/s]\n"
     ]
    },
    {
     "name": "stdout",
     "output_type": "stream",
     "text": [
      "\n",
      "MIMIC data successfully loaded.\n",
      "\n",
      "Basic information \n",
      " Input shape: (8911, 10, 9), (8911, 4) \n",
      " Outcome Distribution: De      11.0\n",
      "I     1132.0\n",
      "W     6784.0\n",
      "Di     984.0\n",
      "dtype: float64\n"
     ]
    }
   ],
   "source": [
    "data_info = loader.data_loader(**data_config);"
   ]
  },
  {
   "cell_type": "code",
   "execution_count": 164,
   "id": "a900d40c",
   "metadata": {},
   "outputs": [],
   "source": [
    "from src.models.Dir_VRNN import Dir_VRNN_train as model_train\n",
    "from src.models.Dir_VRNN import model as model\n",
    "from src.models.Dir_VRNN import Dir_VRNN_utils as model_utils\n",
    "\n",
    "reload(model_train);\n",
    "reload(model);\n",
    "reload(model_utils);\n",
    "\n",
    "run_config[\"training_config\"][\"bs\"] = 128\n",
    "run_config[\"training_config\"][\"epochs\"] = 20\n",
    "run_config[\"model_config\"][\"num_clus\"] = 6\n",
    "model = model_train.DirVRNN(data_info = data_info, model_config=model_config, training_config=training_config);"
   ]
  },
  {
   "cell_type": "code",
   "execution_count": 165,
   "id": "53231a73",
   "metadata": {},
   "outputs": [
    {
     "data": {
      "text/plain": [
       "{'data_config': {'data_name': 'MIMIC',\n",
       "  'target_window': 12,\n",
       "  'feat_set': 'vit-sta',\n",
       "  'time_range': [0, 10],\n",
       "  'train_test_ratio': 0.6,\n",
       "  'train_val_ratio': 0.4,\n",
       "  'seed': 2323},\n",
       " 'model_config': {'model_name': 'DirVRNN',\n",
       "  'latent_size': 10,\n",
       "  'gate_layers': 2,\n",
       "  'gate_nodes': 20,\n",
       "  'feat_extr_layers': 2,\n",
       "  'feat_extr_nodes': 20,\n",
       "  'num_clus': 2},\n",
       " 'training_config': {'lr': 0.001, 'epochs': 20, 'bs': 128}}"
      ]
     },
     "execution_count": 165,
     "metadata": {},
     "output_type": "execute_result"
    }
   ],
   "source": [
    "run_config"
   ]
  },
  {
   "cell_type": "code",
   "execution_count": 156,
   "id": "effbff84",
   "metadata": {},
   "outputs": [
    {
     "name": "stdout",
     "output_type": "stream",
     "text": [
      "Train epoch: 1   [36419.08910 - 100%]\n",
      "Val epoch: 1   [-281.98892 - 0%]\n",
      "Train epoch: 2   [-287.20742 - 100%]\n",
      "Val epoch: 2   [-292.93668 - 0%]\n",
      "Train epoch: 3   [-297.97118 - 100%]\n",
      "Val epoch: 3   [-303.66003 - 0%]\n",
      "Train epoch: 4   [-308.74566 - 100%]\n",
      "Val epoch: 4   [-314.08878 - 0%]\n",
      "Train epoch: 5   [-318.48916 - 100%]\n",
      "Val epoch: 5   [-323.05276 - 0%]\n",
      "Train epoch: 6   [-326.67902 - 100%]\n",
      "Val epoch: 6   [-330.14716 - 0%]\n",
      "Train epoch: 7   [-331.76756 - 100%]\n",
      "Val epoch: 7   [-332.53918 - 0%]\n",
      "Train epoch: 8   [-332.84011 - 100%]\n",
      "Val epoch: 8   [-332.91165 - 0%]\n",
      "Train epoch: 9   [-333.00501 - 100%]\n",
      "Val epoch: 9   [-332.95544 - 0%]\n",
      "Train epoch: 10   [-333.13098 - 100%]\n",
      "Val epoch: 10   [-333.14212 - 0%]\n",
      "Train epoch: 11   [-333.17435 - 100%]\n",
      "Val epoch: 11   [-333.20920 - 0%]\n",
      "Train epoch: 12   [-333.23794 - 100%]\n",
      "Val epoch: 12   [-333.22177 - 0%]\n",
      "Train epoch: 13   [-333.27322 - 100%]\n",
      "Val epoch: 13   [-333.27167 - 0%]\n",
      "Train epoch: 14   [-333.30171 - 100%]\n",
      "Val epoch: 14   [-333.29123 - 0%]\n",
      "Train epoch: 15   [-333.30892 - 100%]\n",
      "Val epoch: 15   [-333.22635 - 0%]\n",
      "Train epoch: 16   [-333.31822 - 100%]\n",
      "Val epoch: 16   [-333.31421 - 0%]\n",
      "Train epoch: 17   [-333.34814 - 100%]\n",
      "Val epoch: 17   [-333.30475 - 0%]\n",
      "Train epoch: 18   [-333.35340 - 100%]\n",
      "Val epoch: 18   [-333.34174 - 0%]\n",
      "Train epoch: 19   [-333.35659 - 100%]\n",
      "Val epoch: 19   [-333.35751 - 0%]\n",
      "Train epoch: 20   [-333.38794 - 100%]\n",
      "Val epoch: 20   [-333.36517 - 0%]\n"
     ]
    }
   ],
   "source": [
    "model.fit()"
   ]
  },
  {
   "cell_type": "code",
   "execution_count": 159,
   "id": "2abbec30",
   "metadata": {},
   "outputs": [
    {
     "name": "stdout",
     "output_type": "stream",
     "text": [
      "Test: [-333.40875 - 0%]\n",
      "dict_keys(['alpha_prior', 'alpha_enc', 'est_pi', 'est_cluster_means', 'est_outcomes', 'est_gen_mean', 'est_gen_data', 'cell_state', 'pred_loss', 'y_pred', 'X', 'y'])\n"
     ]
    }
   ],
   "source": [
    " \n",
    "    \n",
    "# Predict model\n",
    "X_test, y_test = data_info[\"X\"][-1], data_info[\"y\"][-1]\n",
    "history = model.predict(X_test, y_test)\n",
    "     \n",
    "# Print available keys\n",
    "print(history.keys())\n",
    "             \n",
    "                 \n",
    "                     \n",
    "                         \n",
    "                             \n",
    "                                 \n",
    "                                     \n",
    "                                         \n",
    "                                             \n",
    "                                                 \n",
    "                                                    "
   ]
  },
  {
   "cell_type": "code",
   "execution_count": 162,
   "id": "8bd3fff2",
   "metadata": {},
   "outputs": [
    {
     "data": {
      "text/plain": [
       "2"
      ]
     },
     "execution_count": 162,
     "metadata": {},
     "output_type": "execute_result"
    }
   ],
   "source": [
    "model.K"
   ]
  },
  {
   "cell_type": "code",
   "execution_count": 42,
   "id": "79b77d0e",
   "metadata": {},
   "outputs": [
    {
     "data": {
      "text/plain": [
       "tensor([[0.3198, 0.6802],\n",
       "        [0.3029, 0.6971],\n",
       "        [0.3031, 0.6969],\n",
       "        [0.3030, 0.6970],\n",
       "        [0.3031, 0.6969],\n",
       "        [0.3031, 0.6969],\n",
       "        [0.3031, 0.6969],\n",
       "        [0.3030, 0.6970],\n",
       "        [0.3030, 0.6970],\n",
       "        [0.3030, 0.6970]], grad_fn=<DivBackward0>)"
      ]
     },
     "execution_count": 42,
     "metadata": {},
     "output_type": "execute_result"
    }
   ],
   "source": [
    "import numpy as np\n",
    "history[\"alpha_enc\"][0, :, :] / torch.sum(history[\"alpha_enc\"][0, :, :], dim=-1, keepdims=True)"
   ]
  },
  {
   "cell_type": "code",
   "execution_count": 43,
   "id": "b4186f59",
   "metadata": {},
   "outputs": [
    {
     "data": {
      "text/plain": [
       "tensor([[0.3194, 0.6806],\n",
       "        [0.3027, 0.6973],\n",
       "        [0.3031, 0.6969],\n",
       "        [0.3030, 0.6970],\n",
       "        [0.3031, 0.6969],\n",
       "        [0.3032, 0.6968],\n",
       "        [0.3020, 0.6980],\n",
       "        [0.3020, 0.6980],\n",
       "        [0.3020, 0.6980],\n",
       "        [0.3020, 0.6980]], grad_fn=<DivBackward0>)"
      ]
     },
     "execution_count": 43,
     "metadata": {},
     "output_type": "execute_result"
    }
   ],
   "source": [
    "history[\"alpha_enc\"][101, :, :] / torch.sum(history[\"alpha_enc\"][101, :, :], dim=-1, keepdims=True)"
   ]
  },
  {
   "cell_type": "code",
   "execution_count": 38,
   "id": "450ad7f5",
   "metadata": {},
   "outputs": [
    {
     "data": {
      "text/plain": [
       "torch.return_types.min(\n",
       "values=tensor([[0.3029, 0.6802],\n",
       "        [0.3025, 0.6785],\n",
       "        [0.3039, 0.6778],\n",
       "        ...,\n",
       "        [0.3020, 0.6792],\n",
       "        [0.3020, 0.6800],\n",
       "        [0.3014, 0.6812]], grad_fn=<MinBackward0>),\n",
       "indices=tensor([[1, 0],\n",
       "        [3, 0],\n",
       "        [1, 0],\n",
       "        ...,\n",
       "        [8, 0],\n",
       "        [8, 0],\n",
       "        [8, 0]]))"
      ]
     },
     "execution_count": 38,
     "metadata": {},
     "output_type": "execute_result"
    }
   ],
   "source": [
    "import torch\n",
    "torch.min(history[\"est_pi\"], dim=1)"
   ]
  },
  {
   "cell_type": "code",
   "execution_count": null,
   "id": "6f8633d6",
   "metadata": {},
   "outputs": [],
   "source": []
  }
 ],
 "metadata": {
  "kernelspec": {
   "display_name": "Python 3 (ipykernel)",
   "language": "python",
   "name": "python3"
  },
  "language_info": {
   "codemirror_mode": {
    "name": "ipython",
    "version": 3
   },
   "file_extension": ".py",
   "mimetype": "text/x-python",
   "name": "python",
   "nbconvert_exporter": "python",
   "pygments_lexer": "ipython3",
   "version": "3.9.0"
  }
 },
 "nbformat": 4,
 "nbformat_minor": 5
}
