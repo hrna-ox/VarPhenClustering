{
 "cells": [
  {
   "cell_type": "markdown",
   "metadata": {},
   "source": [
    "# Code to Run Single Experiments for Traditional Classifiers"
   ]
  },
  {
   "cell_type": "markdown",
   "metadata": {},
   "source": [
    "#### Do not change the cell below"
   ]
  },
  {
   "cell_type": "code",
   "execution_count": 1,
   "metadata": {},
   "outputs": [],
   "source": [
    "import os\n",
    "os.chdir(\"../../..\")"
   ]
  },
  {
   "cell_type": "markdown",
   "metadata": {},
   "source": [
    "## Load Libraries"
   ]
  },
  {
   "cell_type": "code",
   "execution_count": 10,
   "metadata": {},
   "outputs": [],
   "source": [
    "\n",
    "# Import required packages\n",
    "import json\n",
    "import numpy as np\n",
    "import wandb\n",
    "\n",
    "from src.models.DIRVRNN.model import DirVRNN\n",
    "from src.dataloading.TrainingDataLoader import TrainingDataLoader\n",
    "\n",
    "from src.metrics.summarize import summary_all_metrics\n",
    "from src.visualization.metrics_and_losses import plot_multiclass_metrics\n",
    "\n",
    "from datetime import datetime\n",
    "\n"
   ]
  },
  {
   "cell_type": "markdown",
   "metadata": {},
   "source": [
    "## Configuration "
   ]
  },
  {
   "cell_type": "code",
   "execution_count": 6,
   "metadata": {},
   "outputs": [],
   "source": [
    "start_time = datetime.now()\n",
    "\n",
    "args = {\n",
    "    \"model_name\": \"TSKM\",\n",
    "    \"data_dir\":\"data/MIMIC/processed\",\n",
    "    \"time_window\": [0, 10],\n",
    "    \"feat_subset\":\"vitals-static\",\n",
    "    \"train_test_ratio\":0.6,\n",
    "    \"train_val_ratio\":0.6,\n",
    "    \"seed\": 3535,\n",
    "    \"normalize\": True,\n",
    "    \"num_folds\": 1,\n",
    "    \"model_params\": {\n",
    "        \"window_num_obvs\": 4,\n",
    "        \"K\": 6,\n",
    "        \"latent_dim\": 32,\n",
    "        \"n_fwd_blocks\": 1,\n",
    "        \"dropout\": 0.5\n",
    "    },\n",
    "    \"training_params\": {\n",
    "        \"batch_size\": 32,\n",
    "        \"num_epochs\": 100,\n",
    "        \"lr\": 0.001,\n",
    "    }\n",
    "}"
   ]
  },
  {
   "cell_type": "markdown",
   "metadata": {},
   "source": [
    "## Load Data and Process"
   ]
  },
  {
   "cell_type": "code",
   "execution_count": 4,
   "metadata": {},
   "outputs": [
    {
     "name": "stderr",
     "output_type": "stream",
     "text": [
      "8328it [01:46, 78.49it/s] \n"
     ]
    }
   ],
   "source": [
    "\n",
    "start_time = datetime.now()\n",
    "\n",
    "#### LOAD DATA\n",
    "data_loader = TrainingDataLoader(\n",
    "    data_dir=args[\"data_dir\"],\n",
    "    time_window=args[\"time_window\"],\n",
    "    feat_subset=args[\"feat_subset\"],\n",
    "    train_test_ratio=args[\"train_test_ratio\"],\n",
    "    train_val_ratio=args[\"train_val_ratio\"],\n",
    "    seed=args[\"seed\"],\n",
    "    normalize=args[\"normalize\"],\n",
    "    num_folds=args[\"num_folds\"]\n",
    ")\n",
    "data_characteristics = data_loader._get_data_characteristics()\n",
    "\n",
    "\n",
    "# Unpack\n",
    "input_shape = data_characteristics[\"num_samples\"], data_characteristics[\"num_timestamps\"], data_characteristics[\"num_features\"]\n",
    "output_dim = data_characteristics[\"num_outcomes\"]"
   ]
  },
  {
   "cell_type": "markdown",
   "metadata": {},
   "source": [
    "## Load Model"
   ]
  },
  {
   "cell_type": "code",
   "execution_count": 11,
   "metadata": {},
   "outputs": [
    {
     "name": "stderr",
     "output_type": "stream",
     "text": [
      "Failed to detect the name of this notebook, you can set it manually with the WANDB_NOTEBOOK_NAME environment variable to enable code saving.\n",
      "\u001b[34m\u001b[1mwandb\u001b[0m: Currently logged in as: \u001b[33mhenrique-aguiar\u001b[0m (\u001b[33mhrna-ox\u001b[0m). Use \u001b[1m`wandb login --relogin`\u001b[0m to force relogin\n"
     ]
    },
    {
     "data": {
      "text/html": [
       "wandb version 0.15.11 is available!  To upgrade, please run:\n",
       " $ pip install wandb --upgrade"
      ],
      "text/plain": [
       "<IPython.core.display.HTML object>"
      ]
     },
     "metadata": {},
     "output_type": "display_data"
    },
    {
     "data": {
      "text/html": [
       "Tracking run with wandb version 0.15.4"
      ],
      "text/plain": [
       "<IPython.core.display.HTML object>"
      ]
     },
     "metadata": {},
     "output_type": "display_data"
    },
    {
     "data": {
      "text/html": [
       "Run data is saved locally in <code>c:\\Users\\hruia\\PycharmProjects\\phd-repo-template\\wandb\\run-20230927_124638-wjpf14ke</code>"
      ],
      "text/plain": [
       "<IPython.core.display.HTML object>"
      ]
     },
     "metadata": {},
     "output_type": "display_data"
    },
    {
     "data": {
      "text/html": [
       "Syncing run <strong><a href='https://wandb.ai/hrna-ox/DirVRNN/runs/wjpf14ke' target=\"_blank\">rich-pyramid-105</a></strong> to <a href='https://wandb.ai/hrna-ox/DirVRNN' target=\"_blank\">Weights & Biases</a> (<a href='https://wandb.me/run' target=\"_blank\">docs</a>)<br/>"
      ],
      "text/plain": [
       "<IPython.core.display.HTML object>"
      ]
     },
     "metadata": {},
     "output_type": "display_data"
    },
    {
     "data": {
      "text/html": [
       " View project at <a href='https://wandb.ai/hrna-ox/DirVRNN' target=\"_blank\">https://wandb.ai/hrna-ox/DirVRNN</a>"
      ],
      "text/plain": [
       "<IPython.core.display.HTML object>"
      ]
     },
     "metadata": {},
     "output_type": "display_data"
    },
    {
     "data": {
      "text/html": [
       " View run at <a href='https://wandb.ai/hrna-ox/DirVRNN/runs/wjpf14ke' target=\"_blank\">https://wandb.ai/hrna-ox/DirVRNN/runs/wjpf14ke</a>"
      ],
      "text/plain": [
       "<IPython.core.display.HTML object>"
      ]
     },
     "metadata": {},
     "output_type": "display_data"
    }
   ],
   "source": [
    "\n",
    "# Prepare wandb\n",
    "wandb.init(project=\"DirVRNN\", config=args)\n",
    "\n",
    "model = DirVRNN(input_dims = input_shape[-1], \n",
    "                num_classes = output_dim,\n",
    "                window_num_obvs=args[\"model_params\"][\"window_num_obvs\"],\n",
    "                K=args[\"model_params\"][\"K\"],\n",
    "                latent_dim=args[\"model_params\"][\"latent_dim\"],\n",
    "                n_fwd_blocks=args[\"model_params\"][\"n_fwd_blocks\"],\n",
    "                seed=args[\"seed\"],\n",
    "                dropout=args[\"model_params\"][\"dropout\"]\n",
    "            )\n",
    "\n",
    "## ACCESS Train Data\n",
    "X_train, y_train = data_loader.get_train_X_y(fold=1)\n",
    "X_val, y_val = data_loader.get_test_X_y(mode=\"val\", fold=1)"
   ]
  },
  {
   "cell_type": "markdown",
   "metadata": {},
   "source": [
    "## Train Model"
   ]
  },
  {
   "cell_type": "code",
   "execution_count": 12,
   "metadata": {},
   "outputs": [
    {
     "name": "stdout",
     "output_type": "stream",
     "text": [
      "Printing Losses loss, Log Lik, KL, Outl\n"
     ]
    },
    {
     "ename": "RuntimeError",
     "evalue": "mat1 and mat2 must have the same dtype",
     "output_type": "error",
     "traceback": [
      "\u001b[1;31m---------------------------------------------------------------------------\u001b[0m",
      "\u001b[1;31mRuntimeError\u001b[0m                              Traceback (most recent call last)",
      "\u001b[1;32mc:\\Users\\hruia\\PycharmProjects\\phd-repo-template\\src\\models\\DIRVRNN\\run_exps_notebook.ipynb Cell 13\u001b[0m line \u001b[0;36m1\n\u001b[1;32m----> <a href='vscode-notebook-cell:/c%3A/Users/hruia/PycharmProjects/phd-repo-template/src/models/DIRVRNN/run_exps_notebook.ipynb#X15sZmlsZQ%3D%3D?line=0'>1</a>\u001b[0m model\u001b[39m.\u001b[39;49mfit(\n\u001b[0;32m      <a href='vscode-notebook-cell:/c%3A/Users/hruia/PycharmProjects/phd-repo-template/src/models/DIRVRNN/run_exps_notebook.ipynb#X15sZmlsZQ%3D%3D?line=1'>2</a>\u001b[0m     train_data\u001b[39m=\u001b[39;49m(X_train, y_train),\n\u001b[0;32m      <a href='vscode-notebook-cell:/c%3A/Users/hruia/PycharmProjects/phd-repo-template/src/models/DIRVRNN/run_exps_notebook.ipynb#X15sZmlsZQ%3D%3D?line=2'>3</a>\u001b[0m     val_data\u001b[39m=\u001b[39;49m(X_val, y_val),\n\u001b[0;32m      <a href='vscode-notebook-cell:/c%3A/Users/hruia/PycharmProjects/phd-repo-template/src/models/DIRVRNN/run_exps_notebook.ipynb#X15sZmlsZQ%3D%3D?line=3'>4</a>\u001b[0m     batch_size\u001b[39m=\u001b[39;49margs[\u001b[39m\"\u001b[39;49m\u001b[39mtraining_params\u001b[39;49m\u001b[39m\"\u001b[39;49m][\u001b[39m\"\u001b[39;49m\u001b[39mbatch_size\u001b[39;49m\u001b[39m\"\u001b[39;49m],\n\u001b[0;32m      <a href='vscode-notebook-cell:/c%3A/Users/hruia/PycharmProjects/phd-repo-template/src/models/DIRVRNN/run_exps_notebook.ipynb#X15sZmlsZQ%3D%3D?line=4'>5</a>\u001b[0m     lr\u001b[39m=\u001b[39;49margs[\u001b[39m\"\u001b[39;49m\u001b[39mtraining_params\u001b[39;49m\u001b[39m\"\u001b[39;49m][\u001b[39m\"\u001b[39;49m\u001b[39mlr\u001b[39;49m\u001b[39m\"\u001b[39;49m],\n\u001b[0;32m      <a href='vscode-notebook-cell:/c%3A/Users/hruia/PycharmProjects/phd-repo-template/src/models/DIRVRNN/run_exps_notebook.ipynb#X15sZmlsZQ%3D%3D?line=5'>6</a>\u001b[0m     num_epochs\u001b[39m=\u001b[39;49margs[\u001b[39m\"\u001b[39;49m\u001b[39mtraining_params\u001b[39;49m\u001b[39m\"\u001b[39;49m][\u001b[39m\"\u001b[39;49m\u001b[39mnum_epochs\u001b[39;49m\u001b[39m\"\u001b[39;49m]\n\u001b[0;32m      <a href='vscode-notebook-cell:/c%3A/Users/hruia/PycharmProjects/phd-repo-template/src/models/DIRVRNN/run_exps_notebook.ipynb#X15sZmlsZQ%3D%3D?line=6'>7</a>\u001b[0m )\n",
      "File \u001b[1;32mc:\\Users\\hruia\\PycharmProjects\\phd-repo-template\\src\\models\\DIRVRNN\\model.py:528\u001b[0m, in \u001b[0;36mDirVRNN.fit\u001b[1;34m(self, train_data, val_data, lr, batch_size, num_epochs)\u001b[0m\n\u001b[0;32m    525\u001b[0m optimizer\u001b[39m.\u001b[39mzero_grad()\n\u001b[0;32m    527\u001b[0m \u001b[39m# Compute Loss for single model pass\u001b[39;00m\n\u001b[1;32m--> 528\u001b[0m batch_loss, batch_loglik, batch_kl, batch_outl, train_history, train_future \u001b[39m=\u001b[39m \u001b[39mself\u001b[39;49m\u001b[39m.\u001b[39;49mforward(x, y, mode\u001b[39m=\u001b[39;49m\u001b[39m\"\u001b[39;49m\u001b[39mtrain\u001b[39;49m\u001b[39m\"\u001b[39;49m)\n\u001b[0;32m    530\u001b[0m \u001b[39m# Back-propagate loss and update weights\u001b[39;00m\n\u001b[0;32m    531\u001b[0m batch_loss\u001b[39m.\u001b[39mbackward()\n",
      "File \u001b[1;32mc:\\Users\\hruia\\PycharmProjects\\phd-repo-template\\src\\models\\DIRVRNN\\model.py:349\u001b[0m, in \u001b[0;36mDirVRNN.forward\u001b[1;34m(self, x, y, mode)\u001b[0m\n\u001b[0;32m    347\u001b[0m \u001b[39m# Compute alphas of prior and encoder networks given previous cell estimate and current input data\u001b[39;00m\n\u001b[0;32m    348\u001b[0m alpha_prior \u001b[39m=\u001b[39m \u001b[39mself\u001b[39m\u001b[39m.\u001b[39m_prior_pass(h\u001b[39m=\u001b[39mpast_h)\n\u001b[1;32m--> 349\u001b[0m alpha_enc \u001b[39m=\u001b[39m \u001b[39mself\u001b[39;49m\u001b[39m.\u001b[39;49m_encoder_pass(h\u001b[39m=\u001b[39;49mpast_h, x\u001b[39m=\u001b[39;49mx_t)\n\u001b[0;32m    351\u001b[0m \u001b[39m# Sample cluster probs given Dirichlet parameter, and estimate representations based on mixture of Gaussian model\u001b[39;00m\n\u001b[0;32m    352\u001b[0m past_pi \u001b[39m=\u001b[39m model_utils\u001b[39m.\u001b[39msample_dir(alpha\u001b[39m=\u001b[39malpha_enc)\n",
      "File \u001b[1;32mc:\\Users\\hruia\\PycharmProjects\\phd-repo-template\\src\\models\\DIRVRNN\\model.py:212\u001b[0m, in \u001b[0;36mDirVRNN._encoder_pass\u001b[1;34m(self, h, x)\u001b[0m\n\u001b[0;32m    210\u001b[0m \u001b[39mdef\u001b[39;00m \u001b[39m_encoder_pass\u001b[39m(\u001b[39mself\u001b[39m, h, x):\n\u001b[0;32m    211\u001b[0m     \u001b[39m\"\u001b[39m\u001b[39mSingle pass of the encoder to obtain alpha inference param.\u001b[39m\u001b[39m\"\u001b[39m\n\u001b[1;32m--> 212\u001b[0m     \u001b[39mreturn\u001b[39;00m \u001b[39mself\u001b[39m\u001b[39m.\u001b[39m_apply_encoder(torch\u001b[39m.\u001b[39mcat([\u001b[39mself\u001b[39;49m\u001b[39m.\u001b[39;49m_transform_x(x), h], dim\u001b[39m=\u001b[39m\u001b[39m-\u001b[39m\u001b[39m1\u001b[39m))\n",
      "File \u001b[1;32mc:\\Users\\hruia\\PycharmProjects\\phd-repo-template\\src\\models\\DIRVRNN\\model.py:205\u001b[0m, in \u001b[0;36mDirVRNN._transform_x\u001b[1;34m(self, x)\u001b[0m\n\u001b[0;32m    204\u001b[0m \u001b[39mdef\u001b[39;00m \u001b[39m_transform_x\u001b[39m(\u001b[39mself\u001b[39m, x):\n\u001b[1;32m--> 205\u001b[0m     \u001b[39mreturn\u001b[39;00m \u001b[39mself\u001b[39m\u001b[39m.\u001b[39mphi_x_output_fn(\u001b[39mself\u001b[39;49m\u001b[39m.\u001b[39;49mphi_x(x))\n",
      "File \u001b[1;32mc:\\Users\\hruia\\Anaconda3\\envs\\deeplearning\\lib\\site-packages\\torch\\nn\\modules\\module.py:1194\u001b[0m, in \u001b[0;36mModule._call_impl\u001b[1;34m(self, *input, **kwargs)\u001b[0m\n\u001b[0;32m   1190\u001b[0m \u001b[39m# If we don't have any hooks, we want to skip the rest of the logic in\u001b[39;00m\n\u001b[0;32m   1191\u001b[0m \u001b[39m# this function, and just call forward.\u001b[39;00m\n\u001b[0;32m   1192\u001b[0m \u001b[39mif\u001b[39;00m \u001b[39mnot\u001b[39;00m (\u001b[39mself\u001b[39m\u001b[39m.\u001b[39m_backward_hooks \u001b[39mor\u001b[39;00m \u001b[39mself\u001b[39m\u001b[39m.\u001b[39m_forward_hooks \u001b[39mor\u001b[39;00m \u001b[39mself\u001b[39m\u001b[39m.\u001b[39m_forward_pre_hooks \u001b[39mor\u001b[39;00m _global_backward_hooks\n\u001b[0;32m   1193\u001b[0m         \u001b[39mor\u001b[39;00m _global_forward_hooks \u001b[39mor\u001b[39;00m _global_forward_pre_hooks):\n\u001b[1;32m-> 1194\u001b[0m     \u001b[39mreturn\u001b[39;00m forward_call(\u001b[39m*\u001b[39m\u001b[39minput\u001b[39m, \u001b[39m*\u001b[39m\u001b[39m*\u001b[39mkwargs)\n\u001b[0;32m   1195\u001b[0m \u001b[39m# Do not call functions when jit is used\u001b[39;00m\n\u001b[0;32m   1196\u001b[0m full_backward_hooks, non_full_backward_hooks \u001b[39m=\u001b[39m [], []\n",
      "File \u001b[1;32mc:\\Users\\hruia\\PycharmProjects\\phd-repo-template\\src\\models\\deep_learning_base_classes.py:94\u001b[0m, in \u001b[0;36mMLP.forward\u001b[1;34m(self, x)\u001b[0m\n\u001b[0;32m     90\u001b[0m \u001b[39m# Iterate through layers\u001b[39;00m\n\u001b[0;32m     91\u001b[0m \u001b[39mfor\u001b[39;00m layer_i \u001b[39min\u001b[39;00m \u001b[39mself\u001b[39m\u001b[39m.\u001b[39mnn_layers[:\u001b[39m-\u001b[39m\u001b[39m1\u001b[39m]: \u001b[39m# type: ignore\u001b[39;00m\n\u001b[0;32m     92\u001b[0m \n\u001b[0;32m     93\u001b[0m     \u001b[39m# Apply layer transformation\u001b[39;00m\n\u001b[1;32m---> 94\u001b[0m     inter_x \u001b[39m=\u001b[39m layer_i(_x)                \u001b[39m# Layer defines map\u001b[39;00m\n\u001b[0;32m     95\u001b[0m     inter_x\u001b[39m=\u001b[39m \u001b[39mself\u001b[39m\u001b[39m.\u001b[39mact_fn(inter_x)\n\u001b[0;32m     96\u001b[0m     _x \u001b[39m=\u001b[39m \u001b[39mself\u001b[39m\u001b[39m.\u001b[39mdropout(inter_x)\n",
      "File \u001b[1;32mc:\\Users\\hruia\\Anaconda3\\envs\\deeplearning\\lib\\site-packages\\torch\\nn\\modules\\module.py:1194\u001b[0m, in \u001b[0;36mModule._call_impl\u001b[1;34m(self, *input, **kwargs)\u001b[0m\n\u001b[0;32m   1190\u001b[0m \u001b[39m# If we don't have any hooks, we want to skip the rest of the logic in\u001b[39;00m\n\u001b[0;32m   1191\u001b[0m \u001b[39m# this function, and just call forward.\u001b[39;00m\n\u001b[0;32m   1192\u001b[0m \u001b[39mif\u001b[39;00m \u001b[39mnot\u001b[39;00m (\u001b[39mself\u001b[39m\u001b[39m.\u001b[39m_backward_hooks \u001b[39mor\u001b[39;00m \u001b[39mself\u001b[39m\u001b[39m.\u001b[39m_forward_hooks \u001b[39mor\u001b[39;00m \u001b[39mself\u001b[39m\u001b[39m.\u001b[39m_forward_pre_hooks \u001b[39mor\u001b[39;00m _global_backward_hooks\n\u001b[0;32m   1193\u001b[0m         \u001b[39mor\u001b[39;00m _global_forward_hooks \u001b[39mor\u001b[39;00m _global_forward_pre_hooks):\n\u001b[1;32m-> 1194\u001b[0m     \u001b[39mreturn\u001b[39;00m forward_call(\u001b[39m*\u001b[39m\u001b[39minput\u001b[39m, \u001b[39m*\u001b[39m\u001b[39m*\u001b[39mkwargs)\n\u001b[0;32m   1195\u001b[0m \u001b[39m# Do not call functions when jit is used\u001b[39;00m\n\u001b[0;32m   1196\u001b[0m full_backward_hooks, non_full_backward_hooks \u001b[39m=\u001b[39m [], []\n",
      "File \u001b[1;32mc:\\Users\\hruia\\Anaconda3\\envs\\deeplearning\\lib\\site-packages\\torch\\nn\\modules\\linear.py:114\u001b[0m, in \u001b[0;36mLinear.forward\u001b[1;34m(self, input)\u001b[0m\n\u001b[0;32m    113\u001b[0m \u001b[39mdef\u001b[39;00m \u001b[39mforward\u001b[39m(\u001b[39mself\u001b[39m, \u001b[39minput\u001b[39m: Tensor) \u001b[39m-\u001b[39m\u001b[39m>\u001b[39m Tensor:\n\u001b[1;32m--> 114\u001b[0m     \u001b[39mreturn\u001b[39;00m F\u001b[39m.\u001b[39;49mlinear(\u001b[39minput\u001b[39;49m, \u001b[39mself\u001b[39;49m\u001b[39m.\u001b[39;49mweight, \u001b[39mself\u001b[39;49m\u001b[39m.\u001b[39;49mbias)\n",
      "\u001b[1;31mRuntimeError\u001b[0m: mat1 and mat2 must have the same dtype"
     ]
    }
   ],
   "source": [
    "\n",
    "model.fit(\n",
    "    train_data=(X_train, y_train),\n",
    "    val_data=(X_val, y_val),\n",
    "    batch_size=args[\"training_params\"][\"batch_size\"],\n",
    "    lr=args[\"training_params\"][\"lr\"],\n",
    "    num_epochs=args[\"training_params\"][\"num_epochs\"]\n",
    ")\n"
   ]
  },
  {
   "cell_type": "markdown",
   "metadata": {},
   "source": [
    "## Evaluate on Test Set and Get Metrics"
   ]
  },
  {
   "cell_type": "code",
   "execution_count": null,
   "metadata": {},
   "outputs": [],
   "source": [
    "\n",
    "#### EVALUATE MODEL\n",
    "# Evaluate on test data\n",
    "X_test, y_test = data_loader.get_test_X_y(fold=0, mode=\"test\")\n",
    "output = model.predict(X=X_test, y=y_test)\n",
    "y_pred = output[\"outputs_future\"][\"y_pred\"].to_numpy()\n",
    "clus_pred = np.argmax(output[\"outputs_future\"][\"pis\"].to_numpy()[:, -1, :], axis=-1)\n",
    "\n",
    "# Convert to Labels\n",
    "labels_test = np.argmax(y_test, axis=1)\n",
    "\n",
    "# Compute Metrics and visualize\n",
    "metrics_dict = summary_all_metrics(\n",
    "    labels_true=labels_test, scores_pred=y_pred,\n",
    "    X=X_test.reshape(X_test.shape[0], -1), clus_pred=clus_pred\n",
    ")\n",
    "ax, lachiche_ax = plot_multiclass_metrics(metrics_dict=metrics_dict, class_names=data_characteristics[\"outcomes\"])\n"
   ]
  },
  {
   "cell_type": "markdown",
   "metadata": {},
   "source": [
    "## Log Results and Performance"
   ]
  },
  {
   "cell_type": "code",
   "execution_count": null,
   "metadata": {},
   "outputs": [],
   "source": [
    "\n",
    "# Log Model, Results and Visualizations\n",
    "cur_time_as_str = datetime.now().strftime(\"%Y%m%d-%H%M%S\")\n",
    "test_dir = f\"results/{args['model_name']}/{cur_time_as_str}/\"\n",
    "\n",
    "run_info = {\n",
    "    \"data_characteristics\": data_characteristics,\n",
    "    \"args\": args,\n",
    "    \"metrics\": metrics_dict,\n",
    "}\n",
    "objects_to_log = {\n",
    "    \"data\": {\n",
    "        \"X\": (X_train, X_test),\n",
    "        \"y\": (y_train, y_test),\n",
    "    },\n",
    "    \"labels_test\": labels_test,\n",
    "    \"y_pred\": y_pred\n",
    "}\n",
    "model.log_model(save_dir=test_dir, objects_to_log=objects_to_log, run_info=run_info)\n",
    "\n",
    "print(\"Time taken: \", datetime.now() - start_time)\n",
    "print(\"Analysis Complete.\")\n"
   ]
  },
  {
   "cell_type": "code",
   "execution_count": null,
   "metadata": {},
   "outputs": [],
   "source": [
    "for name in [\"macro_f1_score\", \"precision\", \"recall\", \"ovr_auroc\", \n",
    "            \"silhouette\", \"davies_bouldin\", \"calinski_harabasz\"]:\n",
    "    print(f\"{name}: {np.mean(metrics_dict[name]):.3f}\")"
   ]
  },
  {
   "cell_type": "code",
   "execution_count": null,
   "metadata": {},
   "outputs": [],
   "source": [
    "print(metrics_dict[\"confusion_matrix\"])"
   ]
  },
  {
   "cell_type": "code",
   "execution_count": null,
   "metadata": {},
   "outputs": [],
   "source": [
    "run_info"
   ]
  },
  {
   "cell_type": "code",
   "execution_count": null,
   "metadata": {},
   "outputs": [],
   "source": [
    "print(\"Means: \", np.reshape(means, (model.K, *model.input_shape[1:])))\n",
    "print(\"Covariances: \", np.reshape(model.K, *model.input_shape[1:]))\n",
    "print(\"Cluster Probs: \", cluster_probs)"
   ]
  },
  {
   "cell_type": "code",
   "execution_count": null,
   "metadata": {},
   "outputs": [],
   "source": []
  }
 ],
 "metadata": {
  "kernelspec": {
   "display_name": "deeplearning",
   "language": "python",
   "name": "python3"
  },
  "language_info": {
   "codemirror_mode": {
    "name": "ipython",
    "version": 3
   },
   "file_extension": ".py",
   "mimetype": "text/x-python",
   "name": "python",
   "nbconvert_exporter": "python",
   "pygments_lexer": "ipython3",
   "version": "3.9.0"
  },
  "orig_nbformat": 4
 },
 "nbformat": 4,
 "nbformat_minor": 2
}
