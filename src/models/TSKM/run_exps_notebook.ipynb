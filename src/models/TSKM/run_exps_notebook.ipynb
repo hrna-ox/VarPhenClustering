{
 "cells": [
  {
   "cell_type": "markdown",
   "metadata": {},
   "source": [
    "# Code to Run Single Experiments for Traditional Classifiers"
   ]
  },
  {
   "cell_type": "markdown",
   "metadata": {},
   "source": [
    "#### Do not change the cell below"
   ]
  },
  {
   "cell_type": "code",
   "execution_count": 1,
   "metadata": {},
   "outputs": [],
   "source": [
    "import os\n",
    "os.chdir(\"../../..\")"
   ]
  },
  {
   "cell_type": "markdown",
   "metadata": {},
   "source": [
    "## Load Libraries"
   ]
  },
  {
   "cell_type": "code",
   "execution_count": 2,
   "metadata": {},
   "outputs": [],
   "source": [
    "\n",
    "# Import required packages\n",
    "import json\n",
    "import numpy as np\n",
    "\n",
    "from src.models.TSKM.model import TSKM\n",
    "from src.dataloading.TrainingDataLoader import TrainingDataLoader\n",
    "\n",
    "from src.metrics.summarize import summary_all_metrics\n",
    "from src.visualization.metrics_and_losses import plot_multiclass_metrics\n",
    "\n",
    "from datetime import datetime\n",
    "\n"
   ]
  },
  {
   "cell_type": "markdown",
   "metadata": {},
   "source": [
    "## Configuration "
   ]
  },
  {
   "cell_type": "code",
   "execution_count": 3,
   "metadata": {},
   "outputs": [],
   "source": [
    "start_time = datetime.now()\n",
    "\n",
    "args = {\n",
    "    \"model_name\": \"TSKM\",\n",
    "    \"data_dir\":\"data/MIMIC/processed\",\n",
    "    \"time_window\": [0, 10],\n",
    "    \"feat_subset\":\"vitals-static\",\n",
    "    \"train_test_ratio\":0.6,\n",
    "    \"train_val_ratio\":0.6,\n",
    "    \"seed\": 3535,\n",
    "    \"normalize\": True,\n",
    "    \"num_folds\": 1,\n",
    "    \"model_params\": {\n",
    "        \"K\": 5,\n",
    "        \"metric\": \"euclidean\",\n",
    "        \"random_state\": 3535\n",
    "    }\n",
    "}"
   ]
  },
  {
   "cell_type": "markdown",
   "metadata": {},
   "source": [
    "## Load Data and Process"
   ]
  },
  {
   "cell_type": "code",
   "execution_count": 4,
   "metadata": {},
   "outputs": [
    {
     "name": "stderr",
     "output_type": "stream",
     "text": [
      "8328it [01:51, 74.46it/s] \n"
     ]
    }
   ],
   "source": [
    "\n",
    "start_time = datetime.now()\n",
    "\n",
    "#### LOAD DATA\n",
    "data_loader = TrainingDataLoader(\n",
    "    data_dir=args[\"data_dir\"],\n",
    "    time_window=args[\"time_window\"],\n",
    "    feat_subset=args[\"feat_subset\"],\n",
    "    train_test_ratio=args[\"train_test_ratio\"],\n",
    "    train_val_ratio=args[\"train_val_ratio\"],\n",
    "    seed=args[\"seed\"],\n",
    "    normalize=args[\"normalize\"],\n",
    "    num_folds=args[\"num_folds\"]\n",
    ")\n",
    "data_characteristics = data_loader._get_data_characteristics()\n",
    "\n",
    "\n",
    "# Unpack\n",
    "input_shape = data_characteristics[\"num_samples\"], data_characteristics[\"num_timestamps\"], data_characteristics[\"num_features\"]\n",
    "output_dim = data_characteristics[\"num_outcomes\"]"
   ]
  },
  {
   "cell_type": "markdown",
   "metadata": {},
   "source": [
    "## Load Model"
   ]
  },
  {
   "cell_type": "code",
   "execution_count": 5,
   "metadata": {},
   "outputs": [],
   "source": [
    "\n",
    "#### TRAIN MODEL\n",
    "# Initialize model\n",
    "model = TSKM(input_shape=input_shape, \n",
    "            output_dim=output_dim, \n",
    "            model_name=args[\"model_name\"], \n",
    "            K=args[\"model_params\"][\"K\"], \n",
    "            random_state=args[\"model_params\"][\"random_state\"],\n",
    "            metric=args[\"model_params\"][\"metric\"],\n",
    "            verbose=1,\n",
    "            max_iter=25\n",
    "        )\n"
   ]
  },
  {
   "cell_type": "markdown",
   "metadata": {},
   "source": [
    "## Train Model"
   ]
  },
  {
   "cell_type": "code",
   "execution_count": 6,
   "metadata": {},
   "outputs": [
    {
     "name": "stdout",
     "output_type": "stream",
     "text": [
      "\n",
      "\n",
      "Training TSKM model...\n",
      "\n",
      "\n",
      "13976.109 --> 11185.419 --> 10834.084 --> 10646.303 --> 10502.735 --> 10401.684 --> 10343.196 --> 10305.468 --> 10285.835 --> 10272.363 --> 10260.735 --> 10253.490 --> 10248.633 --> 10243.191 --> 10238.691 --> 10236.163 --> 10232.854 --> 10227.879 --> 10224.796 --> 10222.978 --> 10221.515 --> 10220.086 --> 10218.966 --> 10218.587 --> 10218.434 --> \n"
     ]
    }
   ],
   "source": [
    "\n",
    "# Get whole training data and validation data\n",
    "X_train, y_train = data_loader.get_train_X_y(fold=0)\n",
    "model.train(train_data=(X_train, y_train))"
   ]
  },
  {
   "cell_type": "markdown",
   "metadata": {},
   "source": [
    "## Evaluate on Test Set and Get Metrics"
   ]
  },
  {
   "cell_type": "code",
   "execution_count": 7,
   "metadata": {},
   "outputs": [],
   "source": [
    "\n",
    "#### EVALUATE MODEL\n",
    "# Evaluate on test data\n",
    "X_test, y_test = data_loader.get_test_X_y(fold=0, mode=\"test\")\n",
    "y_pred, clus_pred = model.predict(X_test)\n",
    "\n",
    "# Convert to Labels\n",
    "labels_test = np.argmax(y_test, axis=1)\n",
    "\n",
    "# Compute Metrics and visualize\n",
    "metrics_dict = summary_all_metrics(\n",
    "    labels_true=labels_test, scores_pred=y_pred,\n",
    "    X=X_test.reshape(X_test.shape[0], -1), clus_pred=clus_pred)\n",
    "# ax, lachiche_ax = plot_multiclass_metrics(metrics_dict=metrics_dict, class_names=data_characteristics[\"outcomes\"])\n"
   ]
  },
  {
   "cell_type": "markdown",
   "metadata": {},
   "source": [
    "## Log Results and Performance"
   ]
  },
  {
   "cell_type": "code",
   "execution_count": 8,
   "metadata": {},
   "outputs": [
    {
     "name": "stdout",
     "output_type": "stream",
     "text": [
      "Time taken:  0:02:39.051246\n"
     ]
    }
   ],
   "source": [
    "\n",
    "# Log Model, Results and Visualizations\n",
    "cur_time_as_str = datetime.now().strftime(\"%Y%m%d-%H%M%S\")\n",
    "test_dir = f\"results/{args['model_name']}/{cur_time_as_str}/\"\n",
    "\n",
    "means, cluster_probs = model.get_model_objects()\n",
    "run_info = {\n",
    "    \"data_characteristics\": data_characteristics,\n",
    "    \"args\": args,\n",
    "    \"metrics\": metrics_dict\n",
    "}\n",
    "output_dir = {\n",
    "    \"data\": {\n",
    "        \"X\": (X_train, X_test),\n",
    "        \"y\": (y_train, y_test)\n",
    "    },\n",
    "    \"model\": {\n",
    "        \"means\": means,\n",
    "        \"cluster_probs\": cluster_probs\n",
    "    },\n",
    "    \"labels_test\": labels_test,\n",
    "    \"y_pred\": y_pred,\n",
    "    \"clus_pred\": clus_pred,\n",
    "}\n",
    "\n",
    "model.log_model(save_dir=test_dir, objects_to_log=output_dir, run_info=run_info)\n",
    "print(\"Time taken: \", datetime.now() - start_time)"
   ]
  },
  {
   "cell_type": "code",
   "execution_count": 9,
   "metadata": {},
   "outputs": [
    {
     "name": "stdout",
     "output_type": "stream",
     "text": [
      "macro_f1_score: 0.281\n",
      "precision: 0.270\n",
      "recall: 0.307\n",
      "ovr_auroc: 0.641\n",
      "silhouette: 0.185\n",
      "davies_bouldin: 1.534\n",
      "calinski_harabasz: 685.347\n"
     ]
    }
   ],
   "source": [
    "for name in [\"macro_f1_score\", \"precision\", \"recall\", \"ovr_auroc\", \n",
    "            \"silhouette\", \"davies_bouldin\", \"calinski_harabasz\"]:\n",
    "    print(f\"{name}: {np.mean(metrics_dict[name]):.3f}\")"
   ]
  },
  {
   "cell_type": "code",
   "execution_count": 10,
   "metadata": {},
   "outputs": [
    {
     "name": "stdout",
     "output_type": "stream",
     "text": [
      "[[   0    0    0    0]\n",
      " [   0  496   90  340]\n",
      " [   0    0    0    0]\n",
      " [  10  648  439 1309]]\n"
     ]
    }
   ],
   "source": [
    "print(metrics_dict[\"confusion_matrix\"])"
   ]
  },
  {
   "cell_type": "code",
   "execution_count": 11,
   "metadata": {},
   "outputs": [
    {
     "data": {
      "text/plain": [
       "{'data_characteristics': {'num_samples': 8328,\n",
       "  'num_timestamps': 11,\n",
       "  'num_features': 9,\n",
       "  'num_outcomes': 4,\n",
       "  'features': ['TEMP',\n",
       "   'HR',\n",
       "   'RR',\n",
       "   'SPO2',\n",
       "   'SBP',\n",
       "   'DBP',\n",
       "   'age',\n",
       "   'gender',\n",
       "   'ESI'],\n",
       "  'outcomes': ['Death', 'Discharge', 'ICU', 'Ward']},\n",
       " 'args': {'model_name': 'TSKM',\n",
       "  'data_dir': 'data/MIMIC/processed',\n",
       "  'time_window': [0, 10],\n",
       "  'feat_subset': 'vitals-static',\n",
       "  'train_test_ratio': 0.6,\n",
       "  'train_val_ratio': 0.6,\n",
       "  'seed': 3535,\n",
       "  'normalize': True,\n",
       "  'num_folds': 1,\n",
       "  'model_params': {'K': 5, 'metric': 'euclidean', 'random_state': 3535}},\n",
       " 'metrics': {'accuracy': array([0.9969988, 0.6764706, 0.8412365, 0.5687275], dtype=float32),\n",
       "  'macro_f1_score': array([0.        , 0.47922704, 0.        , 0.6456227 ], dtype=float32),\n",
       "  'micro_f1_score': 0.5417167,\n",
       "  'precision': array([0.        , 0.53563714, 0.        , 0.54405653], dtype=float32),\n",
       "  'recall': array([0.        , 0.43356642, 0.        , 0.7938144 ], dtype=float32),\n",
       "  'ovr_auroc': array([0.73898256, 0.64328194, 0.6091296 , 0.5741529 ], dtype=float32),\n",
       "  'ovo_auroc': array([[0.        , 0.18081294, 0.35992438, 0.28493026],\n",
       "         [0.81918705, 0.        , 0.32018042, 0.3695061 ],\n",
       "         [0.35992438, 0.6798196 , 0.        , 0.43840054],\n",
       "         [0.3244694 , 0.6195496 , 0.48069918, 0.        ]], dtype=float32),\n",
       "  'ovr_auprc': array([0.00588429, 0.4533157 , 0.20902258, 0.5375421 ], dtype=float32),\n",
       "  'ovo_auprc': array([[0.        , 0.0253222 , 0.02559734, 0.01085441],\n",
       "         [0.9973704 , 0.        , 0.7881813 , 0.51263344],\n",
       "         [0.9761798 , 0.45153552, 0.        , 0.2806604 ],\n",
       "         [0.99179876, 0.6552369 , 0.75509655, 0.        ]], dtype=float32),\n",
       "  'confusion_matrix': array([[   0,    0,    0,    0],\n",
       "         [   0,  496,   90,  340],\n",
       "         [   0,    0,    0,    0],\n",
       "         [  10,  648,  439, 1309]]),\n",
       "  'true_false_pos_neg': array([[   0,   -6,    0,   10],\n",
       "         [ -16,  -34,  -82, -120],\n",
       "         [   0,  -13,    0,   17],\n",
       "         [  29,   74,   73,   84]], dtype=int8),\n",
       "  'lachiche_metrics': {},\n",
       "  'adjusted_rand': 0.030271057,\n",
       "  'normalized_mutual_info': 0.032603655,\n",
       "  'fowlkes_mallows': 0.33779147,\n",
       "  'silhouette': 0.18472855,\n",
       "  'calinski_harabasz': 685.3469,\n",
       "  'davies_bouldin': 1.5343819}}"
      ]
     },
     "execution_count": 11,
     "metadata": {},
     "output_type": "execute_result"
    }
   ],
   "source": [
    "run_info"
   ]
  },
  {
   "cell_type": "code",
   "execution_count": 12,
   "metadata": {},
   "outputs": [
    {
     "name": "stdout",
     "output_type": "stream",
     "text": [
      "Means:  [[[9.84951590e+01 1.06838460e+02 1.90844766e+01 9.69815291e+01\n",
      "   1.27083494e+02 7.44007681e+01 6.32240086e+01 5.31618435e-01\n",
      "   2.31832797e+00]\n",
      "  [9.84954805e+01 1.06907592e+02 1.90716149e+01 9.69884959e+01\n",
      "   1.26996141e+02 7.43498571e+01 6.32240086e+01 5.31618435e-01\n",
      "   2.31832797e+00]\n",
      "  [9.85043766e+01 1.06738960e+02 1.90819757e+01 9.69818864e+01\n",
      "   1.27020257e+02 7.43816542e+01 6.32240086e+01 5.31618435e-01\n",
      "   2.31832797e+00]\n",
      "  [9.85109682e+01 1.06686442e+02 1.91557521e+01 9.69795641e+01\n",
      "   1.26889854e+02 7.42099857e+01 6.32240086e+01 5.31618435e-01\n",
      "   2.31832797e+00]\n",
      "  [9.85074312e+01 1.06244677e+02 1.91562880e+01 9.68600572e+01\n",
      "   1.26685852e+02 7.40679707e+01 6.32240086e+01 5.31618435e-01\n",
      "   2.31832797e+00]\n",
      "  [9.85437656e+01 1.06006735e+02 1.91611111e+01 9.68346910e+01\n",
      "   1.25796606e+02 7.36655055e+01 6.32240086e+01 5.31618435e-01\n",
      "   2.31832797e+00]\n",
      "  [9.85906752e+01 1.05405002e+02 1.92181851e+01 9.70014469e+01\n",
      "   1.25360468e+02 7.31386209e+01 6.32240086e+01 5.31618435e-01\n",
      "   2.31832797e+00]\n",
      "  [9.84505002e+01 1.03929457e+02 1.93465881e+01 9.69892104e+01\n",
      "   1.24233798e+02 7.22420329e+01 6.32240086e+01 5.31618435e-01\n",
      "   2.31832797e+00]\n",
      "  [9.82673812e+01 1.02356967e+02 1.94514291e+01 9.70580207e+01\n",
      "   1.23886084e+02 7.12919614e+01 6.32240086e+01 5.31618435e-01\n",
      "   2.31832797e+00]\n",
      "  [9.83006431e+01 1.00600840e+02 1.95274205e+01 9.70466238e+01\n",
      "   1.22593426e+02 7.07532154e+01 6.32240086e+01 5.31618435e-01\n",
      "   2.31832797e+00]\n",
      "  [9.81919078e+01 9.89936942e+01 1.92469811e+01 9.71319400e+01\n",
      "   1.22261969e+02 6.99594677e+01 6.32240086e+01 5.31618435e-01\n",
      "   2.31832797e+00]]\n",
      "\n",
      " [[1.01500000e+02 1.10000000e+02 2.00000000e+01 1.00000000e+02\n",
      "   1.41000000e+02 8.10000000e+01 3.20000000e+01 0.00000000e+00\n",
      "   3.00000000e+00]\n",
      "  [1.01500000e+02 1.10000000e+02 2.00000000e+01 1.00000000e+02\n",
      "   1.41000000e+02 8.10000000e+01 3.20000000e+01 0.00000000e+00\n",
      "   3.00000000e+00]\n",
      "  [9.91000000e+01 1.10000000e+02 2.00000000e+01 1.00000000e+02\n",
      "   1.41000000e+02 8.10000000e+01 3.20000000e+01 0.00000000e+00\n",
      "   3.00000000e+00]\n",
      "  [9.88000000e+01 8.00000000e+01 1.80000000e+01 1.00000000e+02\n",
      "   1.10000000e+01 9.69600000e+03 3.20000000e+01 0.00000000e+00\n",
      "   3.00000000e+00]\n",
      "  [9.88000000e+01 8.00000000e+01 1.80000000e+01 1.00000000e+02\n",
      "   1.10000000e+01 9.69600000e+03 3.20000000e+01 0.00000000e+00\n",
      "   3.00000000e+00]\n",
      "  [9.88000000e+01 8.00000000e+01 1.80000000e+01 1.00000000e+02\n",
      "   1.10000000e+01 9.69600000e+03 3.20000000e+01 0.00000000e+00\n",
      "   3.00000000e+00]\n",
      "  [9.88000000e+01 8.00000000e+01 1.80000000e+01 1.00000000e+02\n",
      "   1.10000000e+01 9.69600000e+03 3.20000000e+01 0.00000000e+00\n",
      "   3.00000000e+00]\n",
      "  [9.88000000e+01 8.00000000e+01 1.80000000e+01 1.00000000e+02\n",
      "   1.10000000e+01 9.69600000e+03 3.20000000e+01 0.00000000e+00\n",
      "   3.00000000e+00]\n",
      "  [9.92000000e+01 9.40000000e+01 1.80000000e+01 1.00000000e+02\n",
      "   1.27000000e+02 8.90000000e+01 3.20000000e+01 0.00000000e+00\n",
      "   3.00000000e+00]\n",
      "  [9.92000000e+01 9.40000000e+01 1.80000000e+01 1.00000000e+02\n",
      "   1.27000000e+02 8.90000000e+01 3.20000000e+01 0.00000000e+00\n",
      "   3.00000000e+00]\n",
      "  [1.00500000e+02 9.80000000e+01 1.60000000e+01 9.90000000e+01\n",
      "   1.16000000e+02 7.50000000e+01 3.20000000e+01 0.00000000e+00\n",
      "   3.00000000e+00]]\n",
      "\n",
      " [[9.78617245e+01 7.46821420e+01 1.77665646e+01 9.72530860e+01\n",
      "   1.21262060e+02 6.68714999e+01 7.07413206e+01 4.67665078e-01\n",
      "   2.36487406e+00]\n",
      "  [9.78606013e+01 7.45818471e+01 1.77471069e+01 9.72588722e+01\n",
      "   1.21225414e+02 6.67763104e+01 7.07413206e+01 4.67665078e-01\n",
      "   2.36487406e+00]\n",
      "  [9.78623258e+01 7.45281824e+01 1.77457454e+01 9.72494554e+01\n",
      "   1.21156660e+02 6.67252553e+01 7.07413206e+01 4.67665078e-01\n",
      "   2.36487406e+00]\n",
      "  [9.78808600e+01 7.44154754e+01 1.77570343e+01 9.72609485e+01\n",
      "   1.21010892e+02 6.66507261e+01 7.07413206e+01 4.67665078e-01\n",
      "   2.36487406e+00]\n",
      "  [9.78875312e+01 7.42876673e+01 1.77141479e+01 9.72743363e+01\n",
      "   1.20891253e+02 6.64098026e+01 7.07413206e+01 4.67665078e-01\n",
      "   2.36487406e+00]\n",
      "  [9.78601486e+01 7.41654754e+01 1.77477876e+01 9.72800658e+01\n",
      "   1.20506410e+02 6.61051169e+01 7.07413206e+01 4.67665078e-01\n",
      "   2.36487406e+00]\n",
      "  [9.78201032e+01 7.39631836e+01 1.77480145e+01 9.72870433e+01\n",
      "   1.19970672e+02 6.59017472e+01 7.07413206e+01 4.67665078e-01\n",
      "   2.36487406e+00]\n",
      "  [9.77581234e+01 7.37956336e+01 1.75947519e+01 9.72446676e+01\n",
      "   1.19999498e+02 6.57631528e+01 7.07413206e+01 4.67665078e-01\n",
      "   2.36487406e+00]\n",
      "  [9.77383651e+01 7.35044248e+01 1.75833333e+01 9.72269117e+01\n",
      "   1.20223168e+02 6.54652258e+01 7.07413206e+01 4.67665078e-01\n",
      "   2.36487406e+00]\n",
      "  [9.78234366e+01 7.35012480e+01 1.76246880e+01 9.73226118e+01\n",
      "   1.20217438e+02 6.54656796e+01 7.07413206e+01 4.67665078e-01\n",
      "   2.36487406e+00]\n",
      "  [9.78635205e+01 7.35239392e+01 1.76131155e+01 9.73335035e+01\n",
      "   1.20199455e+02 6.51489108e+01 7.07413206e+01 4.67665078e-01\n",
      "   2.36487406e+00]]\n",
      "\n",
      " [[9.82538615e+01 8.72479182e+01 1.71257197e+01 9.84846776e+01\n",
      "   1.23057388e+02 7.47283369e+01 3.25546039e+01 4.99643112e-01\n",
      "   2.53461813e+00]\n",
      "  [9.82554318e+01 8.71435879e+01 1.71392815e+01 9.84739710e+01\n",
      "   1.22978991e+02 7.46886034e+01 3.25546039e+01 4.99643112e-01\n",
      "   2.53461813e+00]\n",
      "  [9.82511135e+01 8.69618130e+01 1.71190578e+01 9.84680228e+01\n",
      "   1.22836355e+02 7.47100167e+01 3.25546039e+01 4.99643112e-01\n",
      "   2.53461813e+00]\n",
      "  [9.82592148e+01 8.68367833e+01 1.71554604e+01 9.84501784e+01\n",
      "   1.22312206e+02 7.45525101e+01 3.25546039e+01 4.99643112e-01\n",
      "   2.53461813e+00]\n",
      "  [9.82243612e+01 8.63825839e+01 1.71871044e+01 9.84492862e+01\n",
      "   1.21824340e+02 7.45358553e+01 3.25546039e+01 4.99643112e-01\n",
      "   2.53461813e+00]\n",
      "  [9.81661575e+01 8.58797882e+01 1.72029265e+01 9.84668927e+01\n",
      "   1.21606995e+02 7.37272662e+01 3.25546039e+01 4.99643112e-01\n",
      "   2.53461813e+00]\n",
      "  [9.82518059e+01 8.49897692e+01 1.71539734e+01 9.84422674e+01\n",
      "   1.21033238e+02 7.32242327e+01 3.25546039e+01 4.99643112e-01\n",
      "   2.53461813e+00]\n",
      "  [9.83528956e+01 8.41437069e+01 1.72368308e+01 9.84201999e+01\n",
      "   1.20516108e+02 7.27020462e+01 3.25546039e+01 4.99643112e-01\n",
      "   2.53461813e+00]\n",
      "  [9.82881394e+01 8.33131182e+01 1.72715798e+01 9.84260885e+01\n",
      "   1.19748382e+02 7.15740848e+01 3.25546039e+01 4.99643112e-01\n",
      "   2.53461813e+00]\n",
      "  [9.82388699e+01 8.25330206e+01 1.72263145e+01 9.83964073e+01\n",
      "   1.18735594e+02 7.08705398e+01 3.25546039e+01 4.99643112e-01\n",
      "   2.53461813e+00]\n",
      "  [9.82272448e+01 8.23603379e+01 1.71760647e+01 9.84569355e+01\n",
      "   1.18580062e+02 7.09219010e+01 3.25546039e+01 4.99643112e-01\n",
      "   2.53461813e+00]]\n",
      "\n",
      " [[9.81449581e+01 8.17863535e+01 1.77574804e+01 9.75907438e+01\n",
      "   1.61057746e+02 8.64860179e+01 6.84496644e+01 5.44463087e-01\n",
      "   2.36577181e+00]\n",
      "  [9.81447064e+01 8.18257830e+01 1.77595777e+01 9.75915828e+01\n",
      "   1.61126957e+02 8.64612696e+01 6.84496644e+01 5.44463087e-01\n",
      "   2.36577181e+00]\n",
      "  [9.81488171e+01 8.18245246e+01 1.77767757e+01 9.75915828e+01\n",
      "   1.61080397e+02 8.64600112e+01 6.84496644e+01 5.44463087e-01\n",
      "   2.36577181e+00]\n",
      "  [9.81834983e+01 8.17452461e+01 1.77394435e+01 9.75982942e+01\n",
      "   1.60968400e+02 8.63324944e+01 6.84496644e+01 5.44463087e-01\n",
      "   2.36577181e+00]\n",
      "  [9.81852601e+01 8.15866890e+01 1.77719519e+01 9.75890660e+01\n",
      "   1.60631991e+02 8.61632411e+01 6.84496644e+01 5.44463087e-01\n",
      "   2.36577181e+00]\n",
      "  [9.81983893e+01 8.15096477e+01 1.76881991e+01 9.75840324e+01\n",
      "   1.60162472e+02 8.56282858e+01 6.84496644e+01 5.44463087e-01\n",
      "   2.36577181e+00]\n",
      "  [9.82411930e+01 8.10935403e+01 1.77467841e+01 9.76015101e+01\n",
      "   1.58998672e+02 8.47894994e+01 6.84496644e+01 5.44463087e-01\n",
      "   2.36577181e+00]\n",
      "  [9.81744312e+01 8.07263003e+01 1.77500699e+01 9.82622343e+01\n",
      "   1.56341233e+02 8.36923238e+01 6.84496644e+01 5.44463087e-01\n",
      "   2.36577181e+00]\n",
      "  [9.81601818e+01 7.98873462e+01 1.77717142e+01 9.81337248e+01\n",
      "   1.53158557e+02 8.16481404e+01 6.84496644e+01 5.44463087e-01\n",
      "   2.36577181e+00]\n",
      "  [9.81730845e+01 7.95277545e+01 1.77617450e+01 9.80233501e+01\n",
      "   1.48996574e+02 7.94919603e+01 6.84496644e+01 5.44463087e-01\n",
      "   2.36577181e+00]\n",
      "  [9.80608949e+01 7.89692394e+01 1.76552013e+01 9.73857662e+01\n",
      "   1.45941695e+02 7.86930928e+01 6.84496644e+01 5.44463087e-01\n",
      "   2.36577181e+00]]]\n"
     ]
    },
    {
     "ename": "TypeError",
     "evalue": "order must be str, not int",
     "output_type": "error",
     "traceback": [
      "\u001b[1;31m---------------------------------------------------------------------------\u001b[0m",
      "\u001b[1;31mTypeError\u001b[0m                                 Traceback (most recent call last)",
      "\u001b[1;32mc:\\Users\\hruia\\PycharmProjects\\phd-repo-template\\src\\models\\TSKM\\run_exps_notebook.ipynb Cell 21\u001b[0m line \u001b[0;36m2\n\u001b[0;32m      <a href='vscode-notebook-cell:/c%3A/Users/hruia/PycharmProjects/phd-repo-template/src/models/TSKM/run_exps_notebook.ipynb#X26sZmlsZQ%3D%3D?line=0'>1</a>\u001b[0m \u001b[39mprint\u001b[39m(\u001b[39m\"\u001b[39m\u001b[39mMeans: \u001b[39m\u001b[39m\"\u001b[39m, np\u001b[39m.\u001b[39mreshape(means, (model\u001b[39m.\u001b[39mK, \u001b[39m*\u001b[39mmodel\u001b[39m.\u001b[39minput_shape[\u001b[39m1\u001b[39m:])))\n\u001b[1;32m----> <a href='vscode-notebook-cell:/c%3A/Users/hruia/PycharmProjects/phd-repo-template/src/models/TSKM/run_exps_notebook.ipynb#X26sZmlsZQ%3D%3D?line=1'>2</a>\u001b[0m \u001b[39mprint\u001b[39m(\u001b[39m\"\u001b[39m\u001b[39mCovariances: \u001b[39m\u001b[39m\"\u001b[39m, np\u001b[39m.\u001b[39;49mreshape(model\u001b[39m.\u001b[39;49mK, \u001b[39m*\u001b[39;49mmodel\u001b[39m.\u001b[39;49minput_shape[\u001b[39m1\u001b[39;49m:]))\n\u001b[0;32m      <a href='vscode-notebook-cell:/c%3A/Users/hruia/PycharmProjects/phd-repo-template/src/models/TSKM/run_exps_notebook.ipynb#X26sZmlsZQ%3D%3D?line=2'>3</a>\u001b[0m \u001b[39mprint\u001b[39m(\u001b[39m\"\u001b[39m\u001b[39mCluster Probs: \u001b[39m\u001b[39m\"\u001b[39m, cluster_probs)\n",
      "File \u001b[1;32m<__array_function__ internals>:200\u001b[0m, in \u001b[0;36mreshape\u001b[1;34m(*args, **kwargs)\u001b[0m\n",
      "File \u001b[1;32mc:\\Users\\hruia\\Anaconda3\\envs\\deeplearning\\lib\\site-packages\\numpy\\core\\fromnumeric.py:298\u001b[0m, in \u001b[0;36mreshape\u001b[1;34m(a, newshape, order)\u001b[0m\n\u001b[0;32m    198\u001b[0m \u001b[39m@array_function_dispatch\u001b[39m(_reshape_dispatcher)\n\u001b[0;32m    199\u001b[0m \u001b[39mdef\u001b[39;00m \u001b[39mreshape\u001b[39m(a, newshape, order\u001b[39m=\u001b[39m\u001b[39m'\u001b[39m\u001b[39mC\u001b[39m\u001b[39m'\u001b[39m):\n\u001b[0;32m    200\u001b[0m \u001b[39m    \u001b[39m\u001b[39m\"\"\"\u001b[39;00m\n\u001b[0;32m    201\u001b[0m \u001b[39m    Gives a new shape to an array without changing its data.\u001b[39;00m\n\u001b[0;32m    202\u001b[0m \n\u001b[1;32m   (...)\u001b[0m\n\u001b[0;32m    296\u001b[0m \u001b[39m           [5, 6]])\u001b[39;00m\n\u001b[0;32m    297\u001b[0m \u001b[39m    \"\"\"\u001b[39;00m\n\u001b[1;32m--> 298\u001b[0m     \u001b[39mreturn\u001b[39;00m _wrapfunc(a, \u001b[39m'\u001b[39;49m\u001b[39mreshape\u001b[39;49m\u001b[39m'\u001b[39;49m, newshape, order\u001b[39m=\u001b[39;49morder)\n",
      "File \u001b[1;32mc:\\Users\\hruia\\Anaconda3\\envs\\deeplearning\\lib\\site-packages\\numpy\\core\\fromnumeric.py:54\u001b[0m, in \u001b[0;36m_wrapfunc\u001b[1;34m(obj, method, *args, **kwds)\u001b[0m\n\u001b[0;32m     52\u001b[0m bound \u001b[39m=\u001b[39m \u001b[39mgetattr\u001b[39m(obj, method, \u001b[39mNone\u001b[39;00m)\n\u001b[0;32m     53\u001b[0m \u001b[39mif\u001b[39;00m bound \u001b[39mis\u001b[39;00m \u001b[39mNone\u001b[39;00m:\n\u001b[1;32m---> 54\u001b[0m     \u001b[39mreturn\u001b[39;00m _wrapit(obj, method, \u001b[39m*\u001b[39margs, \u001b[39m*\u001b[39m\u001b[39m*\u001b[39mkwds)\n\u001b[0;32m     56\u001b[0m \u001b[39mtry\u001b[39;00m:\n\u001b[0;32m     57\u001b[0m     \u001b[39mreturn\u001b[39;00m bound(\u001b[39m*\u001b[39margs, \u001b[39m*\u001b[39m\u001b[39m*\u001b[39mkwds)\n",
      "File \u001b[1;32mc:\\Users\\hruia\\Anaconda3\\envs\\deeplearning\\lib\\site-packages\\numpy\\core\\fromnumeric.py:43\u001b[0m, in \u001b[0;36m_wrapit\u001b[1;34m(obj, method, *args, **kwds)\u001b[0m\n\u001b[0;32m     41\u001b[0m \u001b[39mexcept\u001b[39;00m \u001b[39mAttributeError\u001b[39;00m:\n\u001b[0;32m     42\u001b[0m     wrap \u001b[39m=\u001b[39m \u001b[39mNone\u001b[39;00m\n\u001b[1;32m---> 43\u001b[0m result \u001b[39m=\u001b[39m \u001b[39mgetattr\u001b[39m(asarray(obj), method)(\u001b[39m*\u001b[39margs, \u001b[39m*\u001b[39m\u001b[39m*\u001b[39mkwds)\n\u001b[0;32m     44\u001b[0m \u001b[39mif\u001b[39;00m wrap:\n\u001b[0;32m     45\u001b[0m     \u001b[39mif\u001b[39;00m \u001b[39mnot\u001b[39;00m \u001b[39misinstance\u001b[39m(result, mu\u001b[39m.\u001b[39mndarray):\n",
      "\u001b[1;31mTypeError\u001b[0m: order must be str, not int"
     ]
    }
   ],
   "source": [
    "print(\"Means: \", np.reshape(means, (model.K, *model.input_shape[1:])))\n",
    "print(\"Covariances: \", np.reshape(model.K, *model.input_shape[1:]))\n",
    "print(\"Cluster Probs: \", cluster_probs)"
   ]
  },
  {
   "cell_type": "code",
   "execution_count": null,
   "metadata": {},
   "outputs": [],
   "source": []
  }
 ],
 "metadata": {
  "kernelspec": {
   "display_name": "deeplearning",
   "language": "python",
   "name": "python3"
  },
  "language_info": {
   "codemirror_mode": {
    "name": "ipython",
    "version": 3
   },
   "file_extension": ".py",
   "mimetype": "text/x-python",
   "name": "python",
   "nbconvert_exporter": "python",
   "pygments_lexer": "ipython3",
   "version": "3.9.0"
  },
  "orig_nbformat": 4
 },
 "nbformat": 4,
 "nbformat_minor": 2
}
