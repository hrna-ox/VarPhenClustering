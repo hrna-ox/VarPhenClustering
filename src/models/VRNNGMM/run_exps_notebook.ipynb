{
 "cells": [
  {
   "cell_type": "markdown",
   "metadata": {},
   "source": [
    "# Code to Run Single Experiments for Traditional Classifiers"
   ]
  },
  {
   "cell_type": "markdown",
   "metadata": {},
   "source": [
    "#### Do not change the cell below"
   ]
  },
  {
   "cell_type": "code",
   "execution_count": 1,
   "metadata": {},
   "outputs": [],
   "source": [
    "import os\n",
    "os.chdir(\"../../..\")"
   ]
  },
  {
   "cell_type": "markdown",
   "metadata": {},
   "source": [
    "## Load Libraries"
   ]
  },
  {
   "cell_type": "code",
   "execution_count": 2,
   "metadata": {},
   "outputs": [],
   "source": [
    "\n",
    "# Import required packages\n",
    "import json\n",
    "import numpy as np\n",
    "\n",
    "from src.models.VRNNGMM.model import VRNNGMM\n",
    "from src.dataloading.TrainingDataLoader import TrainingDataLoader\n",
    "\n",
    "from src.metrics.summarize import summary_multiclass_metrics, summary_clustering_metrics, print_avg_metrics_paper\n",
    "import src.logging.logger_utils as logger_utils\n",
    "\n",
    "from datetime import datetime"
   ]
  },
  {
   "cell_type": "markdown",
   "metadata": {},
   "source": [
    "## Configuration "
   ]
  },
  {
   "cell_type": "code",
   "execution_count": 3,
   "metadata": {},
   "outputs": [],
   "source": [
    "start_time = datetime.now()\n",
    "\n",
    "#### LOAD CONFIGURATIONS\n",
    "with open(\"src/models/VRNNGMM/run_config.json\", \"r\") as f:\n",
    "    args = json.load(f)\n"
   ]
  },
  {
   "cell_type": "markdown",
   "metadata": {},
   "source": [
    "## Load Data and Process"
   ]
  },
  {
   "cell_type": "code",
   "execution_count": 4,
   "metadata": {},
   "outputs": [
    {
     "name": "stderr",
     "output_type": "stream",
     "text": [
      "8328it [01:02, 133.98it/s]\n"
     ]
    }
   ],
   "source": [
    "\n",
    "#### LOAD DATA\n",
    "data_loader = TrainingDataLoader(\n",
    "    data_dir=args[\"data_dir\"],\n",
    "    time_window=args[\"time_window\"],\n",
    "    feat_subset=args[\"feat_subset\"],\n",
    "    train_test_ratio=args[\"train_test_ratio\"],\n",
    "    train_val_ratio=args[\"train_val_ratio\"],\n",
    "    seed=args[\"seed\"],\n",
    "    normalize=args[\"normalize\"],\n",
    "    num_folds=args[\"num_folds\"]\n",
    ")\n",
    "\n",
    "\n",
    "data_characteristics = data_loader._get_data_characteristics()\n",
    "\n",
    "# Unpack\n",
    "input_shape = data_characteristics[\"num_samples\"], data_characteristics[\"num_timestamps\"], data_characteristics[\"num_features\"]\n",
    "output_dim = data_characteristics[\"num_outcomes\"]"
   ]
  },
  {
   "cell_type": "markdown",
   "metadata": {},
   "source": [
    "## Load Model"
   ]
  },
  {
   "cell_type": "code",
   "execution_count": 5,
   "metadata": {},
   "outputs": [
    {
     "data": {
      "text/plain": [
       "<module 'src.models.VRNNGMM.model' from 'c:\\\\Users\\\\hruia\\\\PycharmProjects\\\\phd-repo-template\\\\src\\\\models\\\\VRNNGMM\\\\model.py'>"
      ]
     },
     "execution_count": 5,
     "metadata": {},
     "output_type": "execute_result"
    }
   ],
   "source": [
    "from importlib import reload\n",
    "import src.models.VRNNGMM.model as Model\n",
    "reload(Model)\n"
   ]
  },
  {
   "cell_type": "code",
   "execution_count": 6,
   "metadata": {},
   "outputs": [],
   "source": [
    "\n",
    "# Initialize model\n",
    "model = VRNNGMM(\n",
    "    input_dims=input_shape[-1],\n",
    "    output_dim=output_dim,\n",
    "    K=args[\"model_params\"][\"K\"],\n",
    "    latent_dim=args[\"model_params\"][\"latent_dim\"],\n",
    "    gate_num_hidden_layers=args[\"model_params\"][\"gate_num_hidden_layers\"],\n",
    "    gate_num_hidden_nodes=args[\"model_params\"][\"gate_num_hidden_nodes\"],\n",
    "    bias=args[\"model_params\"][\"bias\"],\n",
    "    dropout=args[\"model_params\"][\"dropout\"],\n",
    "    device=args[\"model_params\"][\"device\"],\n",
    "    seed=args[\"model_params\"][\"seed\"],\n",
    "    K_fold_idx=args[\"model_params\"][\"K_fold_idx\"],\n",
    ")\n"
   ]
  },
  {
   "cell_type": "markdown",
   "metadata": {},
   "source": [
    "## Train Model"
   ]
  },
  {
   "cell_type": "code",
   "execution_count": 7,
   "metadata": {},
   "outputs": [
    {
     "name": "stdout",
     "output_type": "stream",
     "text": [
      "Printing Losses loss, Log Lik, KL\n",
      "Epoch 1 (50) :  286.76 - -108.78 - 177.99 - 0.00     Val 1 (50): 283.61 - -106.27 - 177.34\n",
      "Epoch 2 (50) :  279.28 - -102.01 - 177.27 - 0.00     Val 2 (50): 275.63 - -98.67 - 176.96\n",
      "Epoch 3 (50) :  272.70 - -95.81 - 176.88 - 0.00     Val 3 (50): 270.15 - -93.52 - 176.64\n",
      "Epoch 4 (50) :  266.58 - -89.95 - 176.63 - 0.00     Val 4 (50): 263.80 - -87.38 - 176.41\n",
      "Epoch 5 (50) :  260.24 - -83.77 - 176.47 - 0.00     Val 5 (50): 256.06 - -79.78 - 176.28\n",
      "Epoch 6 (50) :  253.78 - -77.43 - 176.35 - 0.00     Val 6 (50): 247.47 - -71.26 - 176.21\n",
      "Epoch 7 (50) :  246.67 - -70.40 - 176.27 - 0.00     Val 7 (50): 238.00 - -61.84 - 176.16\n",
      "Epoch 8 (50) :  239.49 - -63.28 - 176.21 - 0.00     Val 8 (50): 229.86 - -53.74 - 176.12\n",
      "Epoch 9 (50) :  232.59 - -56.42 - 176.17 - 0.00     Val 9 (50): 219.60 - -43.51 - 176.09\n",
      "Epoch 10 (50) :  225.03 - -48.90 - 176.13 - 0.00     Val 10 (50): 213.09 - -37.03 - 176.06\n",
      "Epoch 11 (50) :  218.38 - -42.28 - 176.10 - 0.00     Val 11 (50): 207.20 - -31.15 - 176.05\n",
      "Epoch 12 (50) :  212.35 - -36.26 - 176.09 - 0.00     Val 12 (50): 201.00 - -24.96 - 176.04\n",
      "Epoch 13 (50) :  208.06 - -31.99 - 176.07 - 0.00     Val 13 (50): 196.62 - -20.59 - 176.03\n",
      "Epoch 14 (50) :  204.13 - -28.07 - 176.06 - 0.00     Val 14 (50): 194.39 - -18.37 - 176.03\n",
      "Epoch 15 (50) :  200.79 - -24.74 - 176.05 - 0.00     Val 15 (50): 192.54 - -16.52 - 176.02\n",
      "Epoch 16 (50) :  198.52 - -22.48 - 176.04 - 0.00     Val 16 (50): 190.72 - -14.71 - 176.02\n",
      "Epoch 17 (50) :  196.36 - -20.32 - 176.04 - 0.00     Val 17 (50): 188.99 - -12.98 - 176.01\n",
      "Epoch 18 (50) :  194.60 - -18.57 - 176.03 - 0.00     Val 18 (50): 186.40 - -10.39 - 176.01\n",
      "Epoch 19 (50) :  192.98 - -16.95 - 176.03 - 0.00     Val 19 (50): 185.10 - -9.09 - 176.01\n",
      "Epoch 20 (50) :  191.49 - -15.46 - 176.02 - 0.00     Val 20 (50): 182.98 - -6.98 - 176.01\n",
      "Epoch 21 (50) :  189.77 - -13.75 - 176.02 - 0.00     Val 21 (50): 182.11 - -6.11 - 176.00\n",
      "Epoch 22 (50) :  188.54 - -12.52 - 176.02 - 0.00     Val 22 (50): 181.06 - -5.05 - 176.00\n",
      "Epoch 23 (50) :  187.27 - -11.25 - 176.02 - 0.00     Val 23 (50): 179.84 - -3.84 - 176.00\n",
      "Epoch 24 (50) :  185.97 - -9.95 - 176.01 - 0.00     Val 24 (50): 178.57 - -2.56 - 176.00\n",
      "Epoch 25 (50) :  184.69 - -8.68 - 176.01 - 0.00     Val 25 (50): 176.88 - -0.88 - 176.00\n",
      "Epoch 26 (50) :  183.56 - -7.54 - 176.01 - 0.00     Val 26 (50): 175.18 - 0.82 - 176.00\n",
      "Epoch 27 (50) :  183.02 - -7.01 - 176.01 - 0.00     Val 27 (50): 173.94 - 2.06 - 176.00\n",
      "Epoch 28 (50) :  181.52 - -5.51 - 176.01 - 0.00     Val 28 (50): 173.87 - 2.13 - 176.00\n",
      "Epoch 29 (50) :  181.01 - -5.00 - 176.01 - 0.00     Val 29 (50): 173.17 - 2.83 - 176.00\n",
      "Epoch 30 (50) :  179.93 - -3.92 - 176.01 - 0.00     Val 30 (50): 172.39 - 3.61 - 176.00\n",
      "Epoch 31 (50) :  178.84 - -2.83 - 176.01 - 0.00     Val 31 (50): 171.79 - 4.21 - 176.00\n",
      "Epoch 32 (50) :  178.49 - -2.48 - 176.01 - 0.00     Val 32 (50): 171.00 - 5.00 - 176.00\n",
      "Epoch 33 (50) :  177.59 - -1.59 - 176.01 - 0.00     Val 33 (50): 170.70 - 5.30 - 176.00\n",
      "Epoch 34 (50) :  176.89 - -0.88 - 176.01 - 0.00     Val 34 (50): 170.20 - 5.80 - 176.00\n",
      "Epoch 35 (50) :  176.48 - -0.47 - 176.01 - 0.00     Val 35 (50): 170.01 - 5.99 - 176.00\n",
      "Epoch 36 (50) :  175.98 - 0.03 - 176.00 - 0.00     Val 36 (50): 169.42 - 6.58 - 176.00\n",
      "Epoch 37 (50) :  175.31 - 0.69 - 176.00 - 0.00     Val 37 (50): 169.34 - 6.66 - 176.00\n",
      "Epoch 38 (50) :  175.13 - 0.87 - 176.00 - 0.00     Val 38 (50): 168.86 - 7.14 - 176.00\n",
      "Epoch 39 (50) :  174.51 - 1.50 - 176.00 - 0.00     Val 39 (50): 169.05 - 6.95 - 176.00\n",
      "Epoch 40 (50) :  174.53 - 1.47 - 176.00 - 0.00     Val 40 (50): 168.23 - 7.77 - 176.00\n",
      "Epoch 41 (50) :  174.10 - 1.90 - 176.00 - 0.00     Val 41 (50): 168.15 - 7.85 - 176.00\n",
      "Epoch 42 (50) :  173.73 - 2.27 - 176.00 - 0.00     Val 42 (50): 167.75 - 8.25 - 176.00\n",
      "Epoch 43 (50) :  173.34 - 2.66 - 176.00 - 0.00     Val 43 (50): 167.77 - 8.23 - 176.00\n",
      "Epoch 44 (50) :  173.24 - 2.76 - 176.00 - 0.00     Val 44 (50): 167.81 - 8.19 - 176.00\n",
      "Epoch 45 (50) :  172.84 - 3.17 - 176.00 - 0.00     Val 45 (50): 167.42 - 8.58 - 176.00\n",
      "Epoch 46 (50) :  172.62 - 3.38 - 176.00 - 0.00     Val 46 (50): 167.42 - 8.58 - 176.00\n",
      "Epoch 47 (50) :  172.69 - 3.32 - 176.00 - 0.00     Val 47 (50): 167.63 - 8.37 - 176.00\n",
      "Epoch 48 (50) :  172.42 - 3.58 - 176.00 - 0.00     Val 48 (50): 167.40 - 8.60 - 176.00\n",
      "Epoch 49 (50) :  172.18 - 3.82 - 176.00 - 0.00     Val 49 (50): 167.02 - 8.98 - 176.00\n",
      "Epoch 50 (50) :  172.20 - 3.80 - 176.00 - 0.00     Val 50 (50): 167.28 - 8.72 - 176.00\n",
      "Initialization 0\n",
      "  Iteration 10\n",
      "  Iteration 20\n",
      "  Iteration 30\n",
      "Initialization converged: True\n",
      "[2 2 9 ... 9 3 6]\n"
     ]
    }
   ],
   "source": [
    "\n",
    "# Get whole training data and validation data\n",
    "X_train, y_train = data_loader.get_train_X_y(fold=1)\n",
    "X_val, y_val = data_loader.get_test_X_y(fold=1, mode=\"val\")\n",
    "\n",
    "# import wandb\n",
    "# wandb.init(project=\"VRNNGMM\", config=args)\n",
    "\n",
    "model.fit(\n",
    "    train_data=(X_train.astype(np.float32), y_train.astype(np.float32)),\n",
    "    val_data=(X_val.astype(np.float32), y_val.astype(np.float32)),\n",
    "    lr=args[\"train_params\"][\"lr\"],\n",
    "    batch_size=args[\"train_params\"][\"batch_size\"],\n",
    "    num_epochs=args[\"train_params\"][\"num_epochs\"],\n",
    ")"
   ]
  },
  {
   "cell_type": "markdown",
   "metadata": {},
   "source": [
    "## Evaluate on Test Set and Get Metrics"
   ]
  },
  {
   "cell_type": "code",
   "execution_count": 14,
   "metadata": {},
   "outputs": [],
   "source": [
    "#### EVALUATE MODEL\n",
    "# Evaluate on test data\n",
    "X_test, y_test = data_loader.get_test_X_y(fold=1, mode=\"test\")\n",
    "y_pred, clus_pred, model_objects = model.predict(X=X_test.astype(np.float32), y=y_test.astype(np.float32))"
   ]
  },
  {
   "cell_type": "code",
   "execution_count": 15,
   "metadata": {},
   "outputs": [],
   "source": [
    "# Convert to Labels\n",
    "labels_test = np.argmax(y_test, axis=1)\n",
    "\n",
    "# Compute Metrics and visualize\n",
    "multiclass_dic = summary_multiclass_metrics(labels_true=labels_test, scores_pred=y_pred)\n",
    "clustering_dic = summary_clustering_metrics(\n",
    "    X=X_test.reshape(X_test.shape[0], -1),\n",
    "    labels_true=labels_test,\n",
    "    clus_pred=clus_pred\n",
    ")\n",
    "metrics_dict = {**multiclass_dic, **clustering_dic}"
   ]
  },
  {
   "cell_type": "markdown",
   "metadata": {},
   "source": [
    "## Log Results and Performance"
   ]
  },
  {
   "cell_type": "code",
   "execution_count": 16,
   "metadata": {},
   "outputs": [
    {
     "name": "stdout",
     "output_type": "stream",
     "text": [
      "Time taken:  0:04:06.308193\n"
     ]
    }
   ],
   "source": [
    "\n",
    "# Log Model, Results and Visualizations\n",
    "cur_time_as_str = datetime.now().strftime(\"%Y%m%d-%H%M%S\")\n",
    "test_dir = f\"results/VRNNGMM/{cur_time_as_str}/\"\n",
    "\n",
    "# Save outputs into data objects and run information\n",
    "data_objects = {\n",
    "    \"y_pred\": y_pred,\n",
    "    \"labels_test\": labels_test,\n",
    "    \"X\": (X_train, X_val, X_test),\n",
    "    \"y\": (y_train, y_val, y_test),\n",
    "    \"test_output\": model_objects\n",
    "}\n",
    "\n",
    "run_info = {\n",
    "    \"data_characteristics\": data_characteristics,\n",
    "    \"args\": args,\n",
    "    \"metrics\": metrics_dict,\n",
    "}\n",
    "\n",
    "model.log_model(save_dir=test_dir, objects_to_log=data_objects, run_info=run_info)\n",
    "print(\"Time taken: \", datetime.now() - start_time)"
   ]
  },
  {
   "cell_type": "markdown",
   "metadata": {},
   "source": [
    "## Logging into CSV"
   ]
  },
  {
   "cell_type": "code",
   "execution_count": 17,
   "metadata": {},
   "outputs": [
    {
     "name": "stdout",
     "output_type": "stream",
     "text": [
      "macro_f1_score: 0.166\n",
      "precision: 0.124\n",
      "recall: 0.250\n",
      "ovr_auroc: 0.508\n",
      "silhouette: -0.092\n",
      "davies_bouldin: 34.143\n",
      "calinski_harabasz: 1.005\n"
     ]
    }
   ],
   "source": [
    "\n",
    "# ===================== CSV LOGGING\n",
    "csv_path = \"results/VRNNGMM/tracker.csv\" \n",
    "\n",
    "params_header = [key for key in args.keys() if key not in [\"model_params\"]]\n",
    "metrics_header = [\"F1\", \"Precision\", \"Recall\", \"Auroc\", \"SIL\", \"DBI\", \"VRI\"]\n",
    "logger_utils.make_csv_if_not_exists(csv_path, params_header + metrics_header)\n",
    "\n",
    "# Append Row\n",
    "metrics_to_print = print_avg_metrics_paper(metrics_dict)\n",
    "row_append = *[args[key] for key in params_header], *metrics_to_print\n",
    "logger_utils.write_csv_row(csv_path, row_append)"
   ]
  },
  {
   "cell_type": "code",
   "execution_count": 19,
   "metadata": {},
   "outputs": [
    {
     "ename": "TypeError",
     "evalue": "write_csv_row() takes 2 positional arguments but 17 were given",
     "output_type": "error",
     "traceback": [
      "\u001b[1;31m---------------------------------------------------------------------------\u001b[0m",
      "\u001b[1;31mTypeError\u001b[0m                                 Traceback (most recent call last)",
      "\u001b[1;32mc:\\Users\\hruia\\PycharmProjects\\phd-repo-template\\src\\models\\VRNNGMM\\run_exps_notebook.ipynb Cell 22\u001b[0m line \u001b[0;36m1\n\u001b[1;32m----> <a href='vscode-notebook-cell:/c%3A/Users/hruia/PycharmProjects/phd-repo-template/src/models/VRNNGMM/run_exps_notebook.ipynb#X42sZmlsZQ%3D%3D?line=0'>1</a>\u001b[0m logger_utils\u001b[39m.\u001b[39;49mwrite_csv_row(csv_path, \u001b[39m*\u001b[39;49mrow_append)\n",
      "\u001b[1;31mTypeError\u001b[0m: write_csv_row() takes 2 positional arguments but 17 were given"
     ]
    }
   ],
   "source": []
  },
  {
   "cell_type": "markdown",
   "metadata": {},
   "source": [
    "## Analysis and Printing "
   ]
  },
  {
   "cell_type": "code",
   "execution_count": 12,
   "metadata": {},
   "outputs": [
    {
     "name": "stdout",
     "output_type": "stream",
     "text": [
      "macro_f1_score: 0.166\n",
      "precision: 0.124\n",
      "recall: 0.250\n",
      "ovr_auroc: 0.489\n"
     ]
    }
   ],
   "source": [
    "for name in [\"macro_f1_score\", \"precision\", \"recall\", \"ovr_auroc\"]:\n",
    "    print(f\"{name}: {np.mean(metrics_dict[name]):.3f}\")"
   ]
  },
  {
   "cell_type": "code",
   "execution_count": 13,
   "metadata": {},
   "outputs": [
    {
     "name": "stdout",
     "output_type": "stream",
     "text": [
      "[[   0    0    0    0]\n",
      " [   0    0    0    0]\n",
      " [   0    0    0    0]\n",
      " [  10 1144  529 1649]]\n"
     ]
    }
   ],
   "source": [
    "print(metrics_dict[\"confusion_matrix\"])"
   ]
  }
 ],
 "metadata": {
  "kernelspec": {
   "display_name": "deeplearning",
   "language": "python",
   "name": "python3"
  },
  "language_info": {
   "codemirror_mode": {
    "name": "ipython",
    "version": 3
   },
   "file_extension": ".py",
   "mimetype": "text/x-python",
   "name": "python",
   "nbconvert_exporter": "python",
   "pygments_lexer": "ipython3",
   "version": "3.9.0"
  },
  "orig_nbformat": 4
 },
 "nbformat": 4,
 "nbformat_minor": 2
}
