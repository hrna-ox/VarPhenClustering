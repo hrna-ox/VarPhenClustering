{
 "cells": [
  {
   "cell_type": "markdown",
   "metadata": {},
   "source": [
    "# Code to Run Single Experiments for Traditional Classifiers"
   ]
  },
  {
   "cell_type": "markdown",
   "metadata": {},
   "source": [
    "#### Do not change the cell below"
   ]
  },
  {
   "cell_type": "code",
   "execution_count": 1,
   "metadata": {},
   "outputs": [],
   "source": [
    "import os\n",
    "os.chdir(\"../../..\")"
   ]
  },
  {
   "cell_type": "markdown",
   "metadata": {},
   "source": [
    "## Load Libraries"
   ]
  },
  {
   "cell_type": "code",
   "execution_count": 2,
   "metadata": {},
   "outputs": [],
   "source": [
    "\n",
    "# Import required packages\n",
    "from datetime import datetime\n",
    "import json\n",
    "import numpy as np\n",
    "\n",
    "from src.models.TraditionalClassifiers.model import BaseClassifier, ParallelClassifier\n",
    "from src.dataloading.TrainingDataLoader import TrainingDataLoader\n",
    "\n",
    "from src.metrics.summarize import summary_all_metrics\n",
    "from src.visualization.metrics_and_losses import plot_multiclass_metrics"
   ]
  },
  {
   "cell_type": "markdown",
   "metadata": {},
   "source": [
    "## Configuration "
   ]
  },
  {
   "cell_type": "code",
   "execution_count": 3,
   "metadata": {},
   "outputs": [],
   "source": [
    "start_time = datetime.now()\n",
    "\n",
    "args = {\n",
    "    \"model_name\": \"svm\",\n",
    "    \"feature_parallelize\": False,\n",
    "    \"data_dir\":\"data/MIMIC/processed\",\n",
    "    \"time_window\": [0, 10],\n",
    "    \"feat_subset\":\"vitals-static\",\n",
    "    \"train_test_ratio\":0.6,\n",
    "    \"train_val_ratio\":0.6,\n",
    "    \"seed\": 1313,\n",
    "    \"normalize\": True,\n",
    "    \"num_folds\": 1,\n",
    "    \"model_params\": {\n",
    "        \"kernel\": \"linear\",\n",
    "        \"C\": 20,\n",
    "        \"random_state\": 1313\n",
    "    }\n",
    "}"
   ]
  },
  {
   "cell_type": "markdown",
   "metadata": {},
   "source": [
    "## Load Data and Process"
   ]
  },
  {
   "cell_type": "code",
   "execution_count": 4,
   "metadata": {},
   "outputs": [
    {
     "name": "stderr",
     "output_type": "stream",
     "text": [
      "8328it [00:49, 169.44it/s]\n"
     ]
    }
   ],
   "source": [
    "\n",
    "#### LOAD DATA\n",
    "data_loader = TrainingDataLoader(\n",
    "    data_dir=args[\"data_dir\"],\n",
    "    time_window=args[\"time_window\"],\n",
    "    feat_subset=args[\"feat_subset\"],\n",
    "    train_test_ratio=args[\"train_test_ratio\"],\n",
    "    train_val_ratio=args[\"train_val_ratio\"],\n",
    "    seed=args[\"seed\"],\n",
    "    normalize=args[\"normalize\"],\n",
    "    num_folds=args[\"num_folds\"]\n",
    ")\n",
    "data_characteristics = data_loader._get_data_characteristics()\n",
    "\n",
    "# Unpack\n",
    "input_shape = data_characteristics[\"num_samples\"], data_characteristics[\"num_timestamps\"], data_characteristics[\"num_features\"]\n",
    "output_dim = data_characteristics[\"num_outcomes\"]"
   ]
  },
  {
   "cell_type": "markdown",
   "metadata": {},
   "source": [
    "## Load Model"
   ]
  },
  {
   "cell_type": "code",
   "execution_count": 5,
   "metadata": {},
   "outputs": [],
   "source": [
    "\n",
    "#### TRAIN MODEL\n",
    "# Initialize model\n",
    "if not args[\"feature_parallelize\"]:\n",
    "    model = BaseClassifier(input_shape=input_shape, output_dim=output_dim, model_name=args[\"model_name\"], **args[\"model_params\"])\n",
    "else:\n",
    "    model = ParallelClassifier(input_shape=input_shape, output_dim=output_dim, model_name=args[\"model_name\"], **args[\"model_params\"])\n"
   ]
  },
  {
   "cell_type": "markdown",
   "metadata": {},
   "source": [
    "## Train Model"
   ]
  },
  {
   "cell_type": "code",
   "execution_count": 6,
   "metadata": {},
   "outputs": [
    {
     "name": "stdout",
     "output_type": "stream",
     "text": [
      "\n",
      "\n",
      "Training svm model...\n",
      "\n",
      "\n",
      "[LibSVM]"
     ]
    }
   ],
   "source": [
    "X_train, y_train = data_loader.get_train_X_y(fold=0)\n",
    "model.train(train_data=(X_train, np.argmax(y_train, axis=-1)))"
   ]
  },
  {
   "cell_type": "markdown",
   "metadata": {},
   "source": [
    "## Evaluate on Test Set and Get Metrics"
   ]
  },
  {
   "cell_type": "code",
   "execution_count": null,
   "metadata": {},
   "outputs": [],
   "source": [
    "X_test, y_test = data_loader.get_test_X_y(fold=0, mode=\"test\")\n",
    "y_pred = model.predict(X_test)"
   ]
  },
  {
   "cell_type": "code",
   "execution_count": null,
   "metadata": {},
   "outputs": [],
   "source": [
    "# Convert to Labels\n",
    "labels_test = np.argmax(y_test, axis=1)\n",
    "\n",
    "metrics_dict = summary_all_metrics(labels_true=labels_test, scores_pred=y_pred)\n",
    "# ax, lachiche_ax = plot_multiclass_metrics(metrics_dict=metrics_dict, class_names=data_characteristics[\"outcomes\"])\n"
   ]
  },
  {
   "cell_type": "markdown",
   "metadata": {},
   "source": [
    "## Log Results and Performance"
   ]
  },
  {
   "cell_type": "code",
   "execution_count": null,
   "metadata": {},
   "outputs": [],
   "source": [
    "\n",
    "# Log Model, Results and Visualizations\n",
    "cur_time_as_str = datetime.now().strftime(\"%Y%m%d-%H%M%S\")\n",
    "\n",
    "if args[\"feature_parallelize\"]:\n",
    "    test_dir = f\"results/{args['model_name']}_parallel/{cur_time_as_str}/\"\n",
    "else:\n",
    "    test_dir = f\"results/{args['model_name']}_base/{cur_time_as_str}/\"\n",
    "\n",
    "run_info = {\n",
    "    \"data_characteristics\": data_characteristics,\n",
    "    \"args\": args,\n",
    "    \"metrics\": metrics_dict,\n",
    "}\n",
    "objects_to_log = {\n",
    "    \"data\": {\n",
    "        \"X\": (X_train, X_test),\n",
    "        \"y\": (y_train, y_test),\n",
    "    },\n",
    "    \"labels_test\": labels_test,\n",
    "    \"y_pred\": y_pred\n",
    "}\n",
    "\n",
    "model.log_model(save_dir=test_dir, objects_to_log=objects_to_log, run_info=run_info)\n",
    "print(\"Time taken: \", datetime.now() - start_time)"
   ]
  },
  {
   "cell_type": "code",
   "execution_count": null,
   "metadata": {},
   "outputs": [],
   "source": [
    "for name in [\"macro_f1_score\", \"precision\", \"recall\", \"ovr_auroc\"]:\n",
    "    print(f\"{name}: {np.mean(metrics_dict[name]):.3f}\")"
   ]
  },
  {
   "cell_type": "code",
   "execution_count": null,
   "metadata": {},
   "outputs": [],
   "source": [
    "print(metrics_dict[\"confusion_matrix\"])"
   ]
  }
 ],
 "metadata": {
  "kernelspec": {
   "display_name": "deeplearning",
   "language": "python",
   "name": "python3"
  },
  "language_info": {
   "codemirror_mode": {
    "name": "ipython",
    "version": 3
   },
   "file_extension": ".py",
   "mimetype": "text/x-python",
   "name": "python",
   "nbconvert_exporter": "python",
   "pygments_lexer": "ipython3",
   "version": "3.9.0"
  },
  "orig_nbformat": 4
 },
 "nbformat": 4,
 "nbformat_minor": 2
}
