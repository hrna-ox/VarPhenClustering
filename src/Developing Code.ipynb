{
 "cells": [
  {
   "cell_type": "code",
   "execution_count": 99,
   "id": "1604e617",
   "metadata": {},
   "outputs": [],
   "source": [
    "\n",
    "# Import Libraries\n",
    "import json\n",
    "import os\n",
    "\n",
    "\n",
    "import pandas as pd\n",
    "import numpy as np\n",
    "from tqdm import tqdm\n",
    "tqdm.pandas()\n",
    "\n",
    "import src.data_processing.MIMIC.test_functions as tests\n",
    "\n",
    "# LOAD CONFIGURATION \n",
    "with open(\"src/data_processing/MIMIC/MIMIC_PROCESSING_DEFAULT_VARS.json\", \"r\") as f:\n",
    "    DEFAULT_CONFIG = json.load(f)\n",
    "    f.close()\n",
    "\n",
    "if not os.path.exists(DEFAULT_CONFIG[\"SAVE_FD\"]):\n",
    "    os.makedirs(DEFAULT_CONFIG[\"SAVE_FD\"])"
   ]
  },
  {
   "cell_type": "code",
   "execution_count": 2,
   "id": "284b2e5a",
   "metadata": {},
   "outputs": [],
   "source": [
    "try:\n",
    "    assert os.path.exists(DEFAULT_CONFIG[\"SAVE_FD\"] + \"admissions_intermediate.csv\")\n",
    "    assert os.path.exists(DEFAULT_CONFIG[\"SAVE_FD\"] + \"vitals_intermediate.csv\")\n",
    "\n",
    "except AssertionError as e:\n",
    "    raise e"
   ]
  },
  {
   "cell_type": "code",
   "execution_count": 3,
   "id": "06de2ef8",
   "metadata": {},
   "outputs": [
    {
     "name": "stdout",
     "output_type": "stream",
     "text": [
      "\n",
      "\n",
      " ======== PROCESSING OUTCOMES ======== \n",
      "\n",
      "\n",
      "\n",
      "Testing admissions processed correctly...\n",
      "\n",
      "Testing outtime is after intime.\n",
      "Test passed!\n",
      "\n",
      "Testing next transfer information is consistent.\n",
      "Test passed!\n",
      "\n",
      "Testing admission times are before death (if exists).\n",
      "Test passed!\n",
      "\n",
      "Testing ids are unique for params ('subject_id', 'hadm_id', 'stay_id', 'transfer_id_next')\n",
      "Test passed for variable  subject_id!\n",
      "Test passed for variable  hadm_id!\n",
      "Test passed for variable  stay_id!\n",
      "Test passed for variable  transfer_id_next!\n",
      "\n",
      "Testing ids are complete for params ('subject_id', 'stay_id', 'intime', 'outtime')\n",
      "Test passed for variable subject_id!\n",
      "Test passed for variable stay_id!\n",
      "Test passed for variable intime!\n",
      "Test passed for variable outtime!\n",
      "Test passed!\n",
      "Admissions correctly computed! Safe to go ahead.\n",
      "\n",
      "Testing vitals were processed correctly and make sense.\n",
      "\n",
      "Testing ids are complete for params ('subject_id', 'stay_id', 'sampled_time_to_end')\n",
      "Test passed for variable subject_id!\n",
      "Test passed for variable stay_id!\n",
      "Test passed for variable sampled_time_to_end!\n",
      "\n",
      "Testing next transfer information is consistent.\n",
      "Test passed!\n",
      "\n",
      "Testing stays have sufficient data based on info dic parameters.\n",
      "Test passed!\n",
      "\n",
      "Testing last observation is AT MOST td_window before admission outtime.\n"
     ]
    },
    {
     "name": "stderr",
     "output_type": "stream",
     "text": [
      "100%|██████████| 8364/8364 [01:30<00:00, 91.92it/s] \n"
     ]
    },
    {
     "name": "stdout",
     "output_type": "stream",
     "text": [
      "Test passed!\n",
      "\n",
      "Testing resampling data is linear from min to max per patient.\n"
     ]
    },
    {
     "name": "stderr",
     "output_type": "stream",
     "text": [
      "100%|██████████| 8364/8364 [00:06<00:00, 1194.93it/s]"
     ]
    },
    {
     "name": "stdout",
     "output_type": "stream",
     "text": [
      "Test passed!\n",
      "Vitals seem correctly processed!\n"
     ]
    },
    {
     "name": "stderr",
     "output_type": "stream",
     "text": [
      "\n"
     ]
    }
   ],
   "source": [
    "# Print Information\n",
    "print(\"\\n\\n ======== PROCESSING OUTCOMES ======== \\n\\n\")\n",
    "\n",
    "# Load previously processed data\n",
    "adm_proc = pd.read_csv(\n",
    "    DEFAULT_CONFIG[\"SAVE_FD\"] + \"admissions_intermediate.csv\",\n",
    "    index_col=0, \n",
    "    header=0, \n",
    "    parse_dates=[\"intime\", \"outtime\", \"intime_next\", \"outtime_next\", \"deathtime\"]\n",
    ")\n",
    "vit_proc = (\n",
    "    pd.read_csv(\n",
    "    DEFAULT_CONFIG[\"SAVE_FD\"] + \"vitals_intermediate.csv\", \n",
    "    index_col=0, \n",
    "    header=0, \n",
    "    parse_dates=DEFAULT_CONFIG[\"VITALS_TIME_VARS\"]\n",
    "    )\n",
    "    .reset_index(drop=False)\n",
    "    .assign(sampled_time_to_end=lambda x: pd.to_timedelta(x[\"sampled_time_to_end\"]))  # pd does not load timedelta automatically\n",
    ")\n",
    "\n",
    "\n",
    "# Check correct computation of admissions and vitals\n",
    "tests.test_admissions_processed_correctly(adm_proc)\n",
    "tests.test_vitals_processed_correctly(vit_proc, config_dic=DEFAULT_CONFIG)"
   ]
  },
  {
   "cell_type": "code",
   "execution_count": 4,
   "id": "3e546c25",
   "metadata": {},
   "outputs": [],
   "source": [
    "# Load core info\n",
    "transfers_core = pd.read_csv(\n",
    "    DEFAULT_CONFIG[\"DATA_FD\"] + \"core/transfers.csv\", \n",
    "    index_col=None, \n",
    "    header=0, \n",
    "    parse_dates=[\"intime\", \"outtime\"]\n",
    ")\n",
    "admissions_core = pd.read_csv(\n",
    "    DEFAULT_CONFIG[\"DATA_FD\"] + \"core/admissions.csv\",\n",
    "    index_col=None,\n",
    "    header=0,\n",
    "    parse_dates=[\"admittime\", \"dischtime\", \"deathtime\", \"edregtime\", \"edouttime\"]\n",
    ")\n",
    "\n"
   ]
  },
  {
   "cell_type": "code",
   "execution_count": 5,
   "id": "2084ce48",
   "metadata": {},
   "outputs": [
    {
     "name": "stdout",
     "output_type": "stream",
     "text": [
      "\n",
      "Testing ('subject_id', 'hadm_id', 'stay_id') are subset of cohort data.\n",
      "Test passed!\n",
      "\n",
      "Testing ids are complete for params ('subject_id', 'hadm_id', 'stay_id', 'stay_id')\n",
      "Test passed for variable subject_id!\n",
      "Test passed for variable hadm_id!\n",
      "Test passed for variable stay_id!\n",
      "Test passed for variable stay_id!\n"
     ]
    }
   ],
   "source": [
    "\n",
    "\"\"\"\n",
    "Step 1: Subset the set of transfers/admissions_core to the already processed cohort.\n",
    "\n",
    "We do this by merging. \n",
    "\"\"\"\n",
    "\n",
    "# Define Id for merging. We separate deathtime as one database registers only date, while the other\n",
    "# registers everyting (i.e. up to second)\n",
    "# tr_merge_ids = [\n",
    "#     col for \n",
    "#     col in vit_proc.columns.tolist() if\n",
    "#     col in transfers_core.columns.tolist() and\n",
    "#     \"death\" not in col\n",
    "# ]\n",
    "hadm_merge_ids = [\n",
    "    col for\n",
    "    col in vit_proc.columns.tolist() if\n",
    "    col in admissions_core.columns.tolist() and\n",
    "    \"death\" not in col\n",
    "]\n",
    "merge_ids = [\"subject_id\", \"hadm_id\", \"stay_id\"]         # Useful simplication\n",
    "\n",
    "# # Inner merge for transfers core\n",
    "# transfers_S1 = (\n",
    "#     transfers_core\n",
    "#     .merge(\n",
    "#         vit_proc.drop_duplicates(subset=merge_ids),   # Drop duplicates as we don't need all the rows\n",
    "#         how=\"inner\",\n",
    "#         on=tr_merge_ids\n",
    "#     )\n",
    "#     .dropna(subset=[\"hadm_id\"])                 # Drop rows with no hadm_id as we can't compare with transfers\n",
    "#     .sort_values(by=merge_ids, ascending=True) # Sort by subject_id and stay_id\n",
    "# )\n",
    "\n",
    "# Inner merge for admissions core\n",
    "admissions_S1 = (\n",
    "    admissions_core\n",
    "    .merge(\n",
    "        vit_proc.drop_duplicates(subset=merge_ids), # only want one obvs per admission for merging\n",
    "        how=\"inner\",\n",
    "        on=hadm_merge_ids,\n",
    "        suffixes=(\"\", \"_ed\")\n",
    "    )\n",
    "    .dropna(subset=[\"hadm_id\"])            # Drop rows with no hadm_id as we can't compare with transfers\n",
    "    .sort_values(by=merge_ids, ascending=True) # Sort by subject_id and stay_id\n",
    ")\n",
    "\n",
    "# Testing and save\n",
    "# tests.test_ids_subset_of_cohort(transfers_S1, vit_proc, *merge_ids)\n",
    "tests.test_ids_subset_of_cohort(admissions_S1, vit_proc, *merge_ids)\n",
    "# tests.test_is_complete_ids(transfers_S1, *merge_ids, \"stay_id\")\n",
    "tests.test_is_complete_ids(admissions_S1, *merge_ids, \"stay_id\")\n",
    "\n",
    "# Check processing and correctdeness\n",
    "# transfers_S1.to_csv(DEFAULT_CONFIG[\"SAVE_FD\"] + \"transfers_S1.csv\", header=True, index=True)\n"
   ]
  },
  {
   "cell_type": "code",
   "execution_count": 6,
   "id": "f332b6b4",
   "metadata": {},
   "outputs": [
    {
     "name": "stdout",
     "output_type": "stream",
     "text": [
      "\n",
      "Testing ids are complete for params ('subject_id', 'hadm_id')\n",
      "Test passed for variable subject_id!\n",
      "Test passed for variable hadm_id!\n",
      "\n",
      "Testing whether outtimes match when available.\n"
     ]
    },
    {
     "name": "stderr",
     "output_type": "stream",
     "text": [
      "100%|██████████| 8134/8134 [00:05<00:00, 1510.39it/s]\n"
     ]
    },
    {
     "name": "stdout",
     "output_type": "stream",
     "text": [
      "Test passed!\n",
      "\n",
      "Testing whether every patient has exactly one 'discharge' transfer which is also the last transfer.\n",
      "Test passed!\n"
     ]
    }
   ],
   "source": [
    "admissions_S2 = (\n",
    "    admissions_S1\n",
    "    .query(\"intime <= admittime\")                            # admissions to hospital after ED admissions\n",
    "    .query(\"intime_next >= admittime | intime_next.isna()\")  # admissions to hospital before next ED transfer\n",
    "    .query(\"outtime <= edouttime\")                           # transfer outtime before ed exit time\n",
    "    .query(\"intime <= edregtime\")                            # transfer intmie before ed registration time\n",
    "    .query(\"dischtime - outtime_next >= @pd.Timedelta('-6h') | outtime_next.isna()\")\n",
    "    # discharge time not earlier than outtime_next (added -6 hours due to some potential delays)\n",
    "    .query(\"deathtime <= dischtime | deathtime.isna()\")\n",
    ")\n",
    "\n",
    "# First subset Transfers\n",
    "tr_merge_ids = [\"subject_id\", \"hadm_id\", \"stay_id\", \n",
    "                \"outtime\", \"deathtime\", \"intime_next\", \"outtime_next\",\n",
    "                \"dischtime\", \"discharge_location\"]\n",
    "transfers_S1 = (\n",
    "    transfers_core\n",
    "    .merge(\n",
    "        admissions_S2[tr_merge_ids],\n",
    "        how=\"inner\",\n",
    "        on=[\"subject_id\", \"hadm_id\"],\n",
    "        suffixes=(\"\", \"_ed\")\n",
    "    )\n",
    "    .sort_values(by=[\"subject_id\", \"stay_id\"], ascending=True)\n",
    ")\n",
    "\n",
    "# Run tests\n",
    "tests.test_is_complete_ids(transfers_S1, \"subject_id\", \"hadm_id\")\n",
    "tests.test_outtimes_match(transfers_S1)\n",
    "tests.test_every_patient_has_discharge_transfer(transfers_S1)\n"
   ]
  },
  {
   "cell_type": "code",
   "execution_count": 82,
   "id": "9368473d",
   "metadata": {},
   "outputs": [],
   "source": [
    "\n",
    "def get_first_death_time(df):\n",
    "    \"\"\"\n",
    "    Given a list of transfers which includes information about the patient hospital admission and other information, get\n",
    "    the time of death for the patient. This function exists for standardization.\n",
    "    \"\"\"\n",
    "\n",
    "    # For each stay id (groupby), access the deathtime and compute the minimum if available\n",
    "    earliest_deathtime = df.groupby(\"stay_id\").deathtime.nth(0)    # Get the first row of deathtime (all rows have the same value)\n",
    "\n",
    "    return earliest_deathtime\n",
    "\n",
    "\n",
    "def get_first_icu_time(df):\n",
    "    \"\"\"\n",
    "    Given a list of transfers which includes information about the patient hospital admission and other information, get\n",
    "    the time of the first ICU entry for the patient if it exists.\n",
    "    \"\"\"\n",
    "\n",
    "    cond1 = \"careunit.str.contains('(?i)ICU', na=False, case=False)\"\n",
    "\n",
    "    # For each stay id (groupby), identify the transfers to ICU wards, and compute the entry time if available\n",
    "    earliest_icu_time = (\n",
    "        df\n",
    "        .groupby(\"stay_id\")\n",
    "        .progress_apply(lambda x: (\n",
    "            x\n",
    "            # Careunit has ICU in name\n",
    "            .query(\"\"\"careunit.str.contains('(?i)ICU', na=False, case=False) | \\\n",
    "                    careunit.str.contains('(?i)Neuro Stepdown', na=False, case=False)\"\"\")\n",
    "            # Get transfer entry time\n",
    "            .intime\n",
    "            # Get minimum of all ICU entries\n",
    "            .min()\n",
    "            )\n",
    "        )\n",
    "    )\n",
    "\n",
    "    return earliest_icu_time\n",
    "\n",
    "\n",
    "def get_first_discharge_time(df):\n",
    "    \"\"\"\n",
    "    Given a list of transfers which includes information about the patient hospital admission and other information, get\n",
    "    the time of discharge for the patient if it exists.\n",
    "\n",
    "    Args:\n",
    "        df (pd.DataFrame): Dataframe with transfers information.\n",
    "    \"\"\"\n",
    "\n",
    "    # For each stay id (groupby), identify the discharge transfer, and compute the time if the location is not 'DIED'\n",
    "    earliest_discharge_time = (\n",
    "        df\n",
    "        .groupby(\"stay_id\")\n",
    "        .progress_apply(lambda x: (\n",
    "            x\n",
    "            # Remove any transfers for death events\n",
    "            .query(\"~ eventtype.str.contains('(?i)DIED', na=False, case=False)\")\n",
    "            # Within remaining transfers, get the discharge transfer\n",
    "            .query(\"eventtype == 'discharge'\")\n",
    "            .squeeze()                     # Convert to pd.Series, we know there is exactly one discharge eventtype\n",
    "            .dischtime                     # Get the discharge time\n",
    "            )\n",
    "        )\n",
    "    )\n",
    "\n",
    "    return earliest_discharge_time\n",
    "\n",
    "\n",
    "def get_first_ward_time(df):\n",
    "    \"\"\"\n",
    "    Given a list of transfers which includes information about the patient hospital admission and other information, get\n",
    "    the time of the first transfer to a medical ward for the patient if it exists. This function exists for standardization.\n",
    "\n",
    "    Args:\n",
    "        df (pd.DataFrame): Dataframe with transfers information.\n",
    "    \"\"\"\n",
    "    earliest_ward_time = df.groupby(\"stay_id\").intime_next.nth(0) # Get the first row of intime_next (all rows have the same value)\n",
    "\n",
    "    return earliest_ward_time\n",
    "\n",
    "\n",
    "def compute_outcomes_from_events(df: pd.DataFrame, time_window: pd.Timedelta):\n",
    "    \"\"\"\n",
    "    Given a dataframe with time information for each event, and the time window from outtime, compute the relevant\n",
    "    outcome.\n",
    "\n",
    "    This is an iterative process: first check if death, then ICU, then discharge, and finally discharge.\n",
    "\n",
    "    Params:\n",
    "        df (pd.DataFrame): Dataframe with time information for each event (and 'outtime', as well).\n",
    "        time_window (pd.Timedelta): Time window from outtime to compute outcome.\n",
    "    \"\"\"\n",
    "\n",
    "    # Check for death\n",
    "    outcomes = (\n",
    "        df\n",
    "        .progress_apply(lambda x:\n",
    "            \"Death\" if x.first_death <= x.outtime + time_window else (\n",
    "                \"ICU\" if x.first_icu <= x.outtime + time_window else (\n",
    "                    \"Discharge\" if x.first_discharge <= x.outtime + time_window else (\n",
    "                        \"Ward\" \n",
    "                    )\n",
    "                )\n",
    "            ),\n",
    "            axis=1\n",
    "        )\n",
    "    )\n",
    "\n",
    "    # Check outcome is well-defined (i.e. the above returns exactly one outcome)\n",
    "    # assert outcomes.isin([\"Death\", \"ICU\", \"Discharge\", \"Ward\"]).all()\n",
    "\n",
    "    return outcomes\n",
    "\n"
   ]
  },
  {
   "cell_type": "code",
   "execution_count": 57,
   "id": "a2dc7703",
   "metadata": {},
   "outputs": [
    {
     "name": "stdout",
     "output_type": "stream",
     "text": [
      "\n",
      "Testing ids are complete for params ('subject_id', 'hadm_id')\n",
      "Test passed for variable subject_id!\n",
      "Test passed for variable hadm_id!\n",
      "\n",
      "Testing whether outtimes match when available.\n"
     ]
    },
    {
     "name": "stderr",
     "output_type": "stream",
     "text": [
      "100%|██████████| 8134/8134 [00:10<00:00, 770.05it/s] \n"
     ]
    },
    {
     "name": "stdout",
     "output_type": "stream",
     "text": [
      "Test passed!\n",
      "\n",
      "Testing whether every patient has exactly one 'discharge' transfer which is also the last transfer.\n",
      "Test passed!\n"
     ]
    },
    {
     "name": "stderr",
     "output_type": "stream",
     "text": [
      "100%|██████████| 8134/8134 [01:28<00:00, 91.63it/s] \n",
      "100%|██████████| 8134/8134 [02:26<00:00, 55.65it/s] "
     ]
    },
    {
     "name": "stdout",
     "output_type": "stream",
     "text": [
      "\n",
      "Testing whether events occur after ED outtime.\n",
      "Test passed for feature first_death!\n",
      "Test passed for feature first_icu!\n",
      "Test passed for feature first_ward!\n",
      "Test passed for feature first_discharge!\n"
     ]
    },
    {
     "name": "stderr",
     "output_type": "stream",
     "text": [
      "\n"
     ]
    }
   ],
   "source": [
    "\n",
    "# First subset Transfers\n",
    "tr_merge_ids = [\"subject_id\", \"hadm_id\", \"stay_id\",\n",
    "                \"outtime\", \"deathtime\", \"intime_next\", \"outtime_next\",\n",
    "                \"dischtime\", \"discharge_location\"]\n",
    "transfers_S1 = (\n",
    "    transfers_core\n",
    "    .merge(\n",
    "        admissions_S2[tr_merge_ids],\n",
    "        how=\"inner\",\n",
    "        on=[\"subject_id\", \"hadm_id\"],\n",
    "        suffixes=(\"\", \"_ed\")\n",
    "    )\n",
    "    .sort_values(by=[\"subject_id\", \"stay_id\"], ascending=True)\n",
    ")\n",
    "\n",
    "# Run tests\n",
    "tests.test_is_complete_ids(transfers_S1, \"subject_id\", \"hadm_id\")\n",
    "tests.test_outtimes_match(transfers_S1)\n",
    "tests.test_every_patient_has_discharge_transfer(transfers_S1)\n",
    "\n",
    "# Now compute the earliest time given the list of transfers.\n",
    "earliest_outcome_times = (\n",
    "    admissions_S1\n",
    "    .set_index(\"stay_id\")              # Set index to stay_id to match the below\n",
    "    .assign(first_death=get_first_death_time(transfers_S1))  # Compute first death time\n",
    "    .assign(first_icu=get_first_icu_time(transfers_S1)) # Compute first icu time\n",
    "    .assign(first_ward=get_first_ward_time(transfers_S1)) # Compute first ward time\n",
    "    .assign(first_discharge=get_first_discharge_time(transfers_S1)) # Compute first discharge time\n",
    "    .loc[:, [\"first_death\", \"first_icu\", \"first_ward\", \"first_discharge\",\n",
    "            \"outtime\", \"discharge_location\", \"subject_id\"]]\n",
    "    .query(\"first_death.ge(outtime) | first_death.isna()\")    # Remove weird patients with death > outtime\n",
    "    .query(\"first_icu.ge(outtime) | first_icu.isna()\")       # Remove weird patients with icu > outtime\n",
    "    .query(\"first_ward.ge(outtime) | first_ward.isna()\")    # Remove weird patients with ward > outtime\n",
    "    .query(\"first_discharge.ge(outtime) | first_discharge.isna()\")   # Remove weird patients with discharge > outtime (difference is usually writing down error)\n",
    ")\n",
    "\n",
    "# Testing for computed outcomes\n",
    "tests.test_events_after_outtime(earliest_outcome_times)"
   ]
  },
  {
   "cell_type": "code",
   "execution_count": 108,
   "id": "2eddbc6a",
   "metadata": {},
   "outputs": [
    {
     "name": "stderr",
     "output_type": "stream",
     "text": [
      "100%|██████████| 8328/8328 [00:01<00:00, 5033.48it/s]\n"
     ]
    },
    {
     "name": "stdout",
     "output_type": "stream",
     "text": [
      "\n",
      "Testing whether data was processed correctly.\n",
      "\n",
      "Testing ids are complete for params ('subject_id', 'stay_id', 'hadm_id')\n",
      "Test passed for variable subject_id!\n",
      "Test passed for variable stay_id!\n",
      "Test passed for variable hadm_id!\n",
      "\n",
      "Testing ids are complete for params ('subject_id', 'stay_id', 'hadm_id')\n",
      "Test passed for variable subject_id!\n",
      "Test passed for variable stay_id!\n",
      "Test passed for variable hadm_id!\n",
      "\n",
      "Testing ids are complete for params ('stay_id',)\n",
      "Test passed for variable stay_id!\n",
      "\n",
      "Testing ids are unique for params ('subject_id', 'stay_id', 'hadm_id')\n",
      "Test passed for variable  subject_id!\n",
      "Test passed for variable  stay_id!\n",
      "Test passed for variable  hadm_id!\n",
      "\n",
      "Testing ids are unique for params ('stay_id',)\n",
      "Test passed for variable  stay_id!\n",
      "Test passed!\n",
      "Number of cohort patient: 8328\n",
      "Number of observations: 53430\n",
      "Sample outcome distribution: \n",
      "stay_id      291433051618\n",
      "Death                  25\n",
      "Discharge            2860\n",
      "ICU                  1316\n",
      "Ward                 4127\n",
      "dtype: int64\n"
     ]
    }
   ],
   "source": [
    "hours_outcome_window = DEFAULT_CONFIG[\"OUTCOME_WINDOW\"]\n",
    "\n",
    "# Load TIme window\n",
    "day_delta = pd.Timedelta(hours=hours_outcome_window)\n",
    "\n",
    "# Compute outcomes\n",
    "cat_outcomes = compute_outcomes_from_events(earliest_outcome_times, time_window=day_delta)\n",
    "\n",
    "# Convert to one hot encoding\n",
    "oh_outcomes = pd.get_dummies(cat_outcomes.squeeze()).sort_index().reset_index(drop=False)\n",
    "\n",
    "# Subset admissions and vitals\n",
    "admissions_final = adm_proc.query(\"stay_id.isin(@oh_outcomes.stay_id)\").sort_values(\"stay_id\")\n",
    "vitals_final = vit_proc.query(\"stay_id.isin(@oh_outcomes.stay_id)\").sort_values(\"stay_id\")\n",
    "\n",
    "# Runt tests\n",
    "tests.test_data_processed_correctly(admissions_final, vitals_final, oh_outcomes)\n",
    "\n",
    "\n",
    "# Print Base Information\n",
    "print(f\"Number of cohort patient: {admissions_final.stay_id.nunique()}\")\n",
    "print(f\"Number of observations: {vitals_final.shape[0]}\")\n",
    "print(f\"Sample outcome distribution: \\n{oh_outcomes.sum(axis=0).iloc[1:]}\")"
   ]
  },
  {
   "cell_type": "code",
   "execution_count": 107,
   "id": "d404eb34",
   "metadata": {},
   "outputs": [
    {
     "data": {
      "text/plain": [
       "<module 'src.data_processing.MIMIC.test_functions' from 'c:\\\\Users\\\\hruia\\\\PycharmProjects\\\\VarPhenClustering\\\\src\\\\data_processing\\\\MIMIC\\\\test_functions.py'>"
      ]
     },
     "execution_count": 107,
     "metadata": {},
     "output_type": "execute_result"
    }
   ],
   "source": [
    "reload(tests)"
   ]
  },
  {
   "cell_type": "code",
   "execution_count": 104,
   "id": "f57bb40b",
   "metadata": {},
   "outputs": [
    {
     "data": {
      "text/plain": [
       "array([20568985., 28717529., 23913569., ..., 22342750., 23005038.,\n",
       "       20790981.])"
      ]
     },
     "execution_count": 104,
     "metadata": {},
     "output_type": "execute_result"
    }
   ],
   "source": [
    "vitals_final.hadm_id.unique()"
   ]
  },
  {
   "cell_type": "code",
   "execution_count": null,
   "id": "7e914a7e",
   "metadata": {},
   "outputs": [],
   "source": []
  }
 ],
 "metadata": {
  "kernelspec": {
   "display_name": "Python 3 (ipykernel)",
   "language": "python",
   "name": "python3"
  },
  "language_info": {
   "codemirror_mode": {
    "name": "ipython",
    "version": 3
   },
   "file_extension": ".py",
   "mimetype": "text/x-python",
   "name": "python",
   "nbconvert_exporter": "python",
   "pygments_lexer": "ipython3",
   "version": "3.9.0"
  }
 },
 "nbformat": 4,
 "nbformat_minor": 5
}
