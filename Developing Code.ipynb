{
 "cells": [
  {
   "cell_type": "code",
   "execution_count": 1,
   "id": "1604e617",
   "metadata": {},
   "outputs": [],
   "source": [
    "\n",
    "# Import Libraries\n",
    "import datetime as dt\n",
    "import json\n",
    "import os\n",
    "\n",
    "import pandas as pd\n",
    "import numpy as np\n",
    "from tqdm import tqdm\n",
    "tqdm.pandas()\n",
    "\n",
    "import src.data_processing.MIMIC.test_functions as tests\n",
    "\n",
    "# LOAD CONFIGURATION \n",
    "with open(\"src/data_processing/MIMIC/MIMIC_PROCESSING_DEFAULT_VARS.json\", \"r\") as f:\n",
    "    DEFAULT_CONFIG = json.load(f)\n",
    "    f.close()\n",
    "\n",
    "if not os.path.exists(DEFAULT_CONFIG[\"SAVE_FD\"]):\n",
    "    os.makedirs(DEFAULT_CONFIG[\"SAVE_FD\"])"
   ]
  },
  {
   "cell_type": "code",
   "execution_count": 9,
   "id": "284b2e5a",
   "metadata": {},
   "outputs": [],
   "source": [
    "try:\n",
    "    assert os.path.exists(DEFAULT_CONFIG[\"SAVE_FD\"] + \"admissions_intermediate.csv\")\n",
    "    assert os.path.exists(DEFAULT_CONFIG[\"SAVE_FD\"] + \"vitals_intermediate.csv\")\n",
    "\n",
    "except AssertionError as e:\n",
    "    raise e"
   ]
  },
  {
   "cell_type": "code",
   "execution_count": 13,
   "id": "52572fd2",
   "metadata": {},
   "outputs": [],
   "source": [
    "adm_proc = pd.read_csv(\n",
    "        DEFAULT_CONFIG[\"SAVE_FD\"] + \"admissions_intermediate.csv\",\n",
    "        index_col=0, \n",
    "        header=0, \n",
    "        parse_dates=[\"intime\", \"outtime\", \"intime_next\", \"outtime_next\", \"deathtime\"]\n",
    "    )\n",
    "vit_proc = (\n",
    "    pd.read_csv(\n",
    "    DEFAULT_CONFIG[\"SAVE_FD\"] + \"vitals_intermediate.csv\", \n",
    "    index_col=0, \n",
    "    header=0, \n",
    "    parse_dates=DEFAULT_CONFIG[\"VITALS_TIME_VARS\"]\n",
    "    )\n",
    "    .reset_index(drop=False)\n",
    "    .assign(sampled_time_to_end=lambda x: pd.to_timedelta(x[\"sampled_time_to_end\"]))  # pd does not load timedelta automatically\n",
    ")\n",
    "\n",
    "\n",
    "# Load core info\n",
    "transfers_core = pd.read_csv(\n",
    "    DEFAULT_CONFIG[\"DATA_FD\"] + \"core/transfers.csv\", \n",
    "    index_col=None, \n",
    "    header=0, \n",
    "    parse_dates=[\"intime\", \"outtime\"]\n",
    ")\n",
    "admissions_core = pd.read_csv(\n",
    "    DEFAULT_CONFIG[\"DATA_FD\"] + \"core/admissions.csv\",\n",
    "    index_col=None,\n",
    "    header=0,\n",
    "    parse_dates=[\"admittime\", \"dischtime\", \"deathtime\", \"edregtime\", \"edouttime\"]\n",
    ")"
   ]
  },
  {
   "cell_type": "code",
   "execution_count": 16,
   "id": "be878e9d",
   "metadata": {},
   "outputs": [
    {
     "data": {
      "text/plain": [
       "sampled_time_to_end        0\n",
       "TEMP                   26487\n",
       "HR                     21305\n",
       "RR                     21420\n",
       "SPO2                   21749\n",
       "SBP                    21485\n",
       "DBP                    21485\n",
       "subject_id                 0\n",
       "stay_id                    0\n",
       "charttime                  0\n",
       "rhythm                 51998\n",
       "pain                    4341\n",
       "hadm_id                  107\n",
       "transfer_id_next       22632\n",
       "eventtype_next         22632\n",
       "careunit_next          22648\n",
       "intime_next            22632\n",
       "outtime_next           22632\n",
       "transfer_id                0\n",
       "eventtype                  0\n",
       "careunit                   0\n",
       "intime                     0\n",
       "outtime                    0\n",
       "gender                     0\n",
       "age                        0\n",
       "ESI                        0\n",
       "deathtime              52433\n",
       "dtype: int64"
      ]
     },
     "execution_count": 16,
     "metadata": {},
     "output_type": "execute_result"
    }
   ],
   "source": [
    "vit_proc.isna().sum(axis=0)"
   ]
  },
  {
   "cell_type": "code",
   "execution_count": null,
   "id": "052a1c6f",
   "metadata": {},
   "outputs": [],
   "source": []
  }
 ],
 "metadata": {
  "kernelspec": {
   "display_name": "Python 3 (ipykernel)",
   "language": "python",
   "name": "python3"
  },
  "language_info": {
   "codemirror_mode": {
    "name": "ipython",
    "version": 3
   },
   "file_extension": ".py",
   "mimetype": "text/x-python",
   "name": "python",
   "nbconvert_exporter": "python",
   "pygments_lexer": "ipython3",
   "version": "3.10.6"
  }
 },
 "nbformat": 4,
 "nbformat_minor": 5
}
