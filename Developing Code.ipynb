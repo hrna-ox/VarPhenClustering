{
 "cells": [
  {
   "cell_type": "code",
   "execution_count": 1,
   "id": "1604e617",
   "metadata": {},
   "outputs": [],
   "source": [
    "\n",
    "# Import Libraries\n",
    "import datetime as dt\n",
    "import json\n",
    "import os\n",
    "\n",
    "import pandas as pd\n",
    "import numpy as np\n",
    "from tqdm import tqdm\n",
    "tqdm.pandas()\n",
    "\n",
    "import src.data_processing.MIMIC.test_functions as tests\n",
    "\n",
    "# LOAD CONFIGURATION \n",
    "with open(\"src/data_processing/MIMIC/MIMIC_PROCESSING_DEFAULT_VARS.json\", \"r\") as f:\n",
    "    DEFAULT_CONFIG = json.load(f)\n",
    "    f.close()\n",
    "\n",
    "if not os.path.exists(DEFAULT_CONFIG[\"SAVE_FD\"]):\n",
    "    os.makedirs(DEFAULT_CONFIG[\"SAVE_FD\"])"
   ]
  },
  {
   "cell_type": "code",
   "execution_count": 2,
   "id": "284b2e5a",
   "metadata": {},
   "outputs": [],
   "source": [
    "try:\n",
    "    assert os.path.exists(DEFAULT_CONFIG[\"SAVE_FD\"] + \"admissions_intermediate.csv\")\n",
    "    assert os.path.exists(DEFAULT_CONFIG[\"SAVE_FD\"] + \"vitals_intermediate.csv\")\n",
    "\n",
    "except AssertionError as e:\n",
    "    raise e"
   ]
  },
  {
   "cell_type": "code",
   "execution_count": 3,
   "id": "ac8017e2",
   "metadata": {},
   "outputs": [
    {
     "data": {
      "text/plain": [
       "<module 'src.data_processing.MIMIC.test_functions' from '/home/hq-boss31/Projects/Github/VarPhenClustering/src/data_processing/MIMIC/test_functions.py'>"
      ]
     },
     "execution_count": 3,
     "metadata": {},
     "output_type": "execute_result"
    }
   ],
   "source": [
    "from importlib import reload\n",
    "reload(tests)"
   ]
  },
  {
   "cell_type": "code",
   "execution_count": 5,
   "id": "06de2ef8",
   "metadata": {},
   "outputs": [
    {
     "name": "stdout",
     "output_type": "stream",
     "text": [
      "\n",
      "\n",
      " ======== PROCESSING OUTCOMES ======== \n",
      "\n",
      "\n",
      "\n",
      "Testing admissions processed correctly...\n",
      "\n",
      "Testing outtime is after intime.\n",
      "Test passed!\n",
      "\n",
      "Testing next transfer information is consistent.\n",
      "Test passed!\n",
      "\n",
      "Testing admission times are before death (if exists).\n",
      "Test passed!\n",
      "\n",
      "Testing ids are unique for params ('subject_id', 'hadm_id', 'stay_id', 'transfer_id_next')\n",
      "Test passed!\n",
      "\n",
      "Testing ids are complete for params ('subject_id', 'stay_id', 'intime', 'outtime')\n",
      "Test passed!\n",
      "Admissions correctly computed! Safe to go ahead.\n",
      "\n",
      "Testing vitals were processed correctly and make sense.\n",
      "\n",
      "Testing ids are complete for params ('subject_id', 'stay_id', 'sampled_time_to_end')\n",
      "\n",
      "Testing next transfer information is consistent.\n",
      "Test passed!\n",
      "\n",
      "Testing stays have sufficient data based on info dic parameters.\n",
      "Test passed!\n",
      "\n",
      "Testing last observation is AT MOST td_window before admission outtime.\n"
     ]
    },
    {
     "name": "stderr",
     "output_type": "stream",
     "text": [
      "100%|███████████████████████████████████████████████████████████████████████████████████████████████████████████████████████████████████████████| 8364/8364 [00:27<00:00, 309.21it/s]\n"
     ]
    },
    {
     "name": "stdout",
     "output_type": "stream",
     "text": [
      "Test passed!\n",
      "\n",
      "Testing resampling data is linear from min to max per patient.\n"
     ]
    },
    {
     "name": "stderr",
     "output_type": "stream",
     "text": [
      "100%|██████████████████████████████████████████████████████████████████████████████████████████████████████████████████████████████████████████| 8364/8364 [00:03<00:00, 2296.00it/s]"
     ]
    },
    {
     "name": "stdout",
     "output_type": "stream",
     "text": [
      "Test passed!\n",
      "Vitals seem correctly processed!\n"
     ]
    },
    {
     "name": "stderr",
     "output_type": "stream",
     "text": [
      "\n"
     ]
    }
   ],
   "source": [
    "# Print Information\n",
    "print(\"\\n\\n ======== PROCESSING OUTCOMES ======== \\n\\n\")\n",
    "\n",
    "# Load previously processed data\n",
    "adm_proc = pd.read_csv(\n",
    "    DEFAULT_CONFIG[\"SAVE_FD\"] + \"admissions_intermediate.csv\",\n",
    "    index_col=0, \n",
    "    header=0, \n",
    "    parse_dates=[\"intime\", \"outtime\", \"intime_next\", \"outtime_next\", \"deathtime\"]\n",
    ")\n",
    "vit_proc = (\n",
    "    pd.read_csv(\n",
    "    DEFAULT_CONFIG[\"SAVE_FD\"] + \"vitals_intermediate.csv\", \n",
    "    index_col=0, \n",
    "    header=0, \n",
    "    parse_dates=DEFAULT_CONFIG[\"VITALS_TIME_VARS\"]\n",
    "    )\n",
    "    .reset_index(drop=False)\n",
    "    .assign(sampled_time_to_end=lambda x: pd.to_timedelta(x[\"sampled_time_to_end\"]))  # pd does not load timedelta automatically\n",
    ")\n",
    "\n",
    "\n",
    "# Check correct computation of admissions and vitals\n",
    "tests.test_admissions_processed_correctly(adm_proc)\n",
    "tests.test_vitals_processed_correctly(vit_proc, config_dic=DEFAULT_CONFIG)"
   ]
  },
  {
   "cell_type": "code",
   "execution_count": 6,
   "id": "3e546c25",
   "metadata": {},
   "outputs": [],
   "source": [
    "# Load core info\n",
    "transfers_core = pd.read_csv(\n",
    "    DEFAULT_CONFIG[\"DATA_FD\"] + \"core/transfers.csv\", \n",
    "    index_col=None, \n",
    "    header=0, \n",
    "    parse_dates=[\"intime\", \"outtime\"]\n",
    ")\n",
    "admissions_core = pd.read_csv(\n",
    "    DEFAULT_CONFIG[\"DATA_FD\"] + \"core/admissions.csv\",\n",
    "    index_col=None,\n",
    "    header=0,\n",
    "    parse_dates=[\"admittime\", \"dischtime\", \"deathtime\", \"edregtime\", \"edouttime\"]\n",
    ")\n",
    "\n"
   ]
  },
  {
   "cell_type": "code",
   "execution_count": 7,
   "id": "2084ce48",
   "metadata": {},
   "outputs": [
    {
     "name": "stdout",
     "output_type": "stream",
     "text": [
      "\n",
      "Testing ('subject_id', 'hadm_id') are subset of cohort data.\n",
      "Test passed!\n",
      "\n",
      "Testing ('subject_id', 'hadm_id') are subset of cohort data.\n",
      "Test passed!\n",
      "\n",
      "Testing ids are complete for params ('subject_id', 'hadm_id', 'stay_id')\n",
      "\n",
      "Testing ids are complete for params ('subject_id', 'hadm_id', 'stay_id')\n"
     ]
    }
   ],
   "source": [
    "\n",
    "\"\"\"\n",
    "Step 1: Subset the set of transfers/admissions_core to the already processed cohort.\n",
    "\n",
    "We do this by merging. \n",
    "\"\"\"\n",
    "merge_ids = [\"subject_id\", \"hadm_id\"]\n",
    "\n",
    "# Inner merge for transfers core\n",
    "transfers_S1 = (\n",
    "    transfers_core\n",
    "    .merge(\n",
    "        vit_proc[merge_ids + [\"stay_id\"]].drop_duplicates(),   # Drop duplicates as we don't need all the rows\n",
    "        how=\"inner\",\n",
    "        on=merge_ids\n",
    "    )\n",
    "    .dropna(subset=[\"hadm_id\"])                 # Drop rows with no hadm_id as we can't compare with transfers\n",
    ")\n",
    "\n",
    "# Inner merge for admissions core\n",
    "admissions_S1 = (\n",
    "    admissions_core\n",
    "    .merge(\n",
    "        vit_proc[merge_ids + [\"stay_id\"]].drop_duplicates(),\n",
    "        how=\"inner\",\n",
    "        on=merge_ids\n",
    "    )\n",
    "    .dropna(subset=[\"hadm_id\"])            # Drop rows with no hadm_id as we can't compare with transfers\n",
    ")\n",
    "\n",
    "# Testing and save\n",
    "tests.test_ids_subset_of_cohort(transfers_S1, vit_proc, *merge_ids)\n",
    "tests.test_ids_subset_of_cohort(admissions_S1, vit_proc, *merge_ids)\n",
    "tests.test_is_complete_ids(transfers_S1, *merge_ids, \"stay_id\")\n",
    "tests.test_is_complete_ids(admissions_S1, *merge_ids, \"stay_id\")\n",
    "\n",
    "# Check processing and correctdeness\n",
    "transfers_S1.to_csv(DEFAULT_CONFIG[\"SAVE_FD\"] + \"transfers_S1.csv\", header=True, index=True)"
   ]
  },
  {
   "cell_type": "code",
   "execution_count": null,
   "id": "432ed210",
   "metadata": {},
   "outputs": [],
   "source": []
  }
 ],
 "metadata": {
  "kernelspec": {
   "display_name": "Python 3 (ipykernel)",
   "language": "python",
   "name": "python3"
  },
  "language_info": {
   "codemirror_mode": {
    "name": "ipython",
    "version": 3
   },
   "file_extension": ".py",
   "mimetype": "text/x-python",
   "name": "python",
   "nbconvert_exporter": "python",
   "pygments_lexer": "ipython3",
   "version": "3.10.6"
  }
 },
 "nbformat": 4,
 "nbformat_minor": 5
}
