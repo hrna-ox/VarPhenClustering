{
 "cells": [
  {
   "cell_type": "code",
   "execution_count": 2,
   "id": "a53222a5",
   "metadata": {},
   "outputs": [],
   "source": [
    "import json\n",
    "\n",
    "import torch\n",
    "import wandb\n",
    "\n",
    "from src.data_processing.data_loader import data_loader\n",
    "from src.models.Dir_VRNN.model import DirVRNN\n",
    "\n"
   ]
  },
  {
   "cell_type": "code",
   "execution_count": 8,
   "id": "89dbf56e",
   "metadata": {},
   "outputs": [
    {
     "data": {
      "text/plain": [
       "True"
      ]
     },
     "execution_count": 8,
     "metadata": {},
     "output_type": "execute_result"
    }
   ],
   "source": [
    "import os, pathlib\n",
    "\n",
    "os.path.exists(\"src/models/Dir_VRNN/run_config.json\")"
   ]
  },
  {
   "cell_type": "code",
   "execution_count": 23,
   "id": "30a6d8b7",
   "metadata": {},
   "outputs": [],
   "source": [
    "# Load Configuration \n",
    "with open(\"src/models/Dir_VRNN/run_config.json\", \"r\") as f:\n",
    "    run_config = json.load(f)\n",
    "    f.close()\n",
    "\n",
    "# Extract info\n",
    "data_config = run_config[\"data_config\"]\n",
    "model_config = run_config[\"model_config\"]\n",
    "training_config = run_config[\"training_config\"]"
   ]
  },
  {
   "cell_type": "code",
   "execution_count": 12,
   "id": "e6a61cf0",
   "metadata": {},
   "outputs": [
    {
     "name": "stderr",
     "output_type": "stream",
     "text": [
      "/home/ball4537/PycharmProjects/VarPhenClustering/src/data_processing/data_loading_utils.py:453: FutureWarning: is_monotonic is deprecated and will be removed in a future version. Use is_monotonic_increasing instead.\n",
      "  cond1 = X[self.id_col].is_monotonic\n"
     ]
    },
    {
     "name": "stdout",
     "output_type": "stream",
     "text": [
      "\n",
      "MIMIC data has been subsettted to the following features: \n",
      " ['DBP', 'ESI', 'HR', 'RR', 'SBP', 'SPO2', 'TEMP', 'age', 'gender'].\n"
     ]
    },
    {
     "name": "stderr",
     "output_type": "stream",
     "text": [
      "100%|██████████| 8328/8328 [00:10<00:00, 811.68it/s]\n"
     ]
    },
    {
     "name": "stdout",
     "output_type": "stream",
     "text": [
      "\n",
      "MIMIC data successfully loaded.\n",
      "\n",
      "Basic information \n",
      " Input shape: (8328, 10, 9), (8328, 4) \n",
      " Outcome Distribution: Death          26\n",
      "ICU          1321\n",
      "Ward         4121\n",
      "Discharge    2860\n",
      "dtype: int64\n"
     ]
    }
   ],
   "source": [
    "\n",
    "# Load and process data\n",
    "data_info = data_loader(**data_config)"
   ]
  },
  {
   "cell_type": "code",
   "execution_count": 13,
   "id": "fc1614d5",
   "metadata": {},
   "outputs": [
    {
     "name": "stdout",
     "output_type": "stream",
     "text": [
      "Device is  cuda\n"
     ]
    }
   ],
   "source": [
    "# GPU and model setting\n",
    "device = torch.device(\"cuda\" if torch.cuda.is_available() else \"cpu\")\n",
    "torch.manual_seed(run_config[\"model_config\"][\"seed\"])\n",
    "torch.backends.cudnn.deterministic = True\n",
    "print(\"Device is \", device)\n"
   ]
  },
  {
   "cell_type": "code",
   "execution_count": 43,
   "id": "e3fb2d96",
   "metadata": {},
   "outputs": [
    {
     "name": "stdout",
     "output_type": "stream",
     "text": [
      "Train epoch 1 (100%):  [L1339.05070 - loglik -443.37512 - kl 10.61951 - out 22.93312]\n",
      "Predict test (100%):  [L74.09708 - loglik -25.09204 - kl 0.09792 - out 1.47280]\n",
      "Train epoch 2 (100%):  [L991.15763 - loglik -343.54895 - kl -5.09739 - out 24.19709]\n",
      "Predict test (100%):  [L40.92328 - loglik -15.05167 - kl -0.88431 - out 1.57879]\n",
      "Train epoch 3 (100%):  [L233.04912 - loglik -118.08885 - kl -31.68364 - out 26.16650]\n",
      "Predict test (100%):  [L-22.93550 - loglik 2.90338 - kl -4.16274 - out 1.73715]\n",
      "Train epoch 4 (100%):  [L-1403.67696 - loglik 256.12103 - kl -201.67841 - out 30.27864]\n",
      "Predict test (100%):  [L-172.18044 - loglik 27.09557 - kl -29.54186 - out 2.26814]\n",
      "Train epoch 5 (100%):  [L-4472.83080 - loglik 554.07166 - kl -923.01257 - out 41.57863]\n",
      "Predict test (100%):  [L-416.16492 - loglik 40.34589 - kl -97.34247 - out 3.09986]\n"
     ]
    }
   ],
   "source": [
    "from importlib import reload\n",
    "import src.models.Dir_VRNN.model as BaseModels\n",
    "\n",
    "reload(BaseModels)\n",
    "\n",
    "\n",
    "model = BaseModels.DirVRNN(**model_config, device=device).to(device)\n",
    "model.fit(data_info=data_info, train_info=training_config, run_config=run_config)\n",
    "torch.save(model.state_dict(), \"DirVRNN.h5\")"
   ]
  },
  {
   "cell_type": "code",
   "execution_count": 36,
   "id": "891e3aab",
   "metadata": {},
   "outputs": [
    {
     "data": {
      "text/plain": [
       "{'lr': 0.001, 'epochs': 5, 'bs': 128}"
      ]
     },
     "execution_count": 36,
     "metadata": {},
     "output_type": "execute_result"
    }
   ],
   "source": [
    "training_config"
   ]
  },
  {
   "cell_type": "code",
   "execution_count": null,
   "id": "5181d6f2",
   "metadata": {},
   "outputs": [],
   "source": []
  }
 ],
 "metadata": {
  "kernelspec": {
   "display_name": "Python 3 (ipykernel)",
   "language": "python",
   "name": "python3"
  },
  "language_info": {
   "codemirror_mode": {
    "name": "ipython",
    "version": 3
   },
   "file_extension": ".py",
   "mimetype": "text/x-python",
   "name": "python",
   "nbconvert_exporter": "python",
   "pygments_lexer": "ipython3",
   "version": "3.10.0"
  }
 },
 "nbformat": 4,
 "nbformat_minor": 5
}
