{
 "cells": [
  {
   "cell_type": "code",
   "execution_count": 1,
   "id": "afe22435",
   "metadata": {},
   "outputs": [],
   "source": [
    "import json\n",
    "import matplotlib.pyplot as plt\n",
    "\n",
    "from src.data_processing.data_loader import data_loader\n",
    "import src.training.training_utils as training_utils\n",
    "# from src.results.main import evaluate\n",
    "# import src.visualisation.main as vis_main\n"
   ]
  },
  {
   "cell_type": "code",
   "execution_count": 2,
   "id": "7b86d951",
   "metadata": {},
   "outputs": [],
   "source": [
    "with open(\"src/training/run_config.json\", \"r\") as f:\n",
    "    run_config = json.load(f)\n",
    "    f.close()\n",
    "\n",
    "# Extract info\n",
    "data_config = run_config[\"data_config\"]\n",
    "model_config = run_config[\"model_config\"]\n",
    "training_config = run_config[\"training_config\"]"
   ]
  },
  {
   "cell_type": "code",
   "execution_count": 3,
   "id": "ed2290cd",
   "metadata": {},
   "outputs": [
    {
     "name": "stderr",
     "output_type": "stream",
     "text": [
      "C:\\Users\\hruia\\PycharmProjects\\VarPhenClustering\\src\\data_processing\\data_loading_utils.py:453: FutureWarning: is_monotonic is deprecated and will be removed in a future version. Use is_monotonic_increasing instead.\n",
      "  cond1 = X[self.id_col].is_monotonic\n"
     ]
    },
    {
     "name": "stdout",
     "output_type": "stream",
     "text": [
      "\n",
      "MIMIC data has been subsettted to the following features: \n",
      " ['DBP', 'ESI', 'HR', 'RR', 'SBP', 'SPO2', 'TEMP', 'age', 'gender'].\n"
     ]
    },
    {
     "name": "stderr",
     "output_type": "stream",
     "text": [
      "100%|████████████████████████████████████████████████████████████████████████████████████████████████████████████████████| 6642/6642 [00:24<00:00, 275.14it/s]\n"
     ]
    },
    {
     "name": "stdout",
     "output_type": "stream",
     "text": [
      "\n",
      "MIMIC data successfully loaded.\n",
      "\n",
      "Basic information \n",
      " Input shape: (6642, 10, 9), (6642, 4) \n",
      " Outcome Distribution: De      21\n",
      "I     1097\n",
      "W     5385\n",
      "Di     139\n",
      "dtype: int64\n"
     ]
    }
   ],
   "source": [
    "data_info = data_loader(**data_config);"
   ]
  },
  {
   "cell_type": "code",
   "execution_count": 32,
   "id": "a900d40c",
   "metadata": {},
   "outputs": [
    {
     "name": "stdout",
     "output_type": "stream",
     "text": [
      "The autoreload extension is already loaded. To reload it, use:\n",
      "  %reload_ext autoreload\n"
     ]
    }
   ],
   "source": [
    "%load_ext autoreload\n",
    "%autoreload 2\n",
    "\n",
    "from importlib import reload\n",
    "from src.models.Dir_VRNN import Dir_VRNN_train\n",
    "from src.models.Dir_VRNN import model\n",
    "from src.models.Dir_VRNN import Dir_VRNN_utils\n",
    "\n",
    "reload(Dir_VRNN_train);\n",
    "reload(model);\n",
    "reload(Dir_VRNN_utils);\n"
   ]
  },
  {
   "cell_type": "code",
   "execution_count": 33,
   "id": "03fc408a",
   "metadata": {},
   "outputs": [],
   "source": [
    "model_config[\"num_clus\"] = 2\n",
    "model = Dir_VRNN_train.DirVRNN(data_info = data_info, model_config=model_config, training_config=training_config);"
   ]
  },
  {
   "cell_type": "code",
   "execution_count": 34,
   "id": "3e41eca9",
   "metadata": {},
   "outputs": [
    {
     "name": "stdout",
     "output_type": "stream",
     "text": [
      "Train epoch: 1   [-120.57631 - 100%]\n",
      "Val epoch: 1   [-130.28052 - 0%]\n",
      "Train epoch: 2   [-148.24089 - 100%]\n",
      "Val epoch: 2   [-175.20398 - 0%]\n",
      "Train epoch: 3   [-204.31955 - 100%]\n",
      "Val epoch: 3   [-243.35699 - 0%]\n",
      "Train epoch: 4   [-315.60633 - 100%]\n",
      "Val epoch: 4   [-448.58313 - 0%]\n",
      "Train epoch: 5   [-728.04981 - 100%]\n",
      "Val epoch: 5   [-1217.80762 - 0%]\n"
     ]
    }
   ],
   "source": [
    "\n",
    "# Train model\n",
    "model.fit()\n"
   ]
  },
  {
   "cell_type": "code",
   "execution_count": 35,
   "id": "2abbec30",
   "metadata": {},
   "outputs": [
    {
     "name": "stdout",
     "output_type": "stream",
     "text": [
      "Test: [-1219.08655 - 0%]\n",
      "dict_keys(['alpha_prior', 'alpha_enc', 'est_pi', 'est_cluster_means', 'est_outcomes', 'est_gen_mean', 'est_gen_data', 'cell_state', 'pred_loss', 'y_pred', 'X', 'y'])\n"
     ]
    }
   ],
   "source": [
    " \n",
    "    \n",
    "# Predict model\n",
    "X_test, y_test = data_info[\"X\"][-1], data_info[\"y\"][-1]\n",
    "history = model.predict(X_test, y_test)\n",
    "     \n",
    "# Print available keys\n",
    "print(history.keys())\n",
    "             \n",
    "                 \n",
    "                     \n",
    "                         \n",
    "                             \n",
    "                                 \n",
    "                                     \n",
    "                                         \n",
    "                                             \n",
    "                                                 \n",
    "                                                    "
   ]
  },
  {
   "cell_type": "code",
   "execution_count": 42,
   "id": "79b77d0e",
   "metadata": {},
   "outputs": [
    {
     "data": {
      "text/plain": [
       "tensor([[0.3198, 0.6802],\n",
       "        [0.3029, 0.6971],\n",
       "        [0.3031, 0.6969],\n",
       "        [0.3030, 0.6970],\n",
       "        [0.3031, 0.6969],\n",
       "        [0.3031, 0.6969],\n",
       "        [0.3031, 0.6969],\n",
       "        [0.3030, 0.6970],\n",
       "        [0.3030, 0.6970],\n",
       "        [0.3030, 0.6970]], grad_fn=<DivBackward0>)"
      ]
     },
     "execution_count": 42,
     "metadata": {},
     "output_type": "execute_result"
    }
   ],
   "source": [
    "import numpy as np\n",
    "history[\"alpha_enc\"][0, :, :] / torch.sum(history[\"alpha_enc\"][0, :, :], dim=-1, keepdims=True)"
   ]
  },
  {
   "cell_type": "code",
   "execution_count": 43,
   "id": "b4186f59",
   "metadata": {},
   "outputs": [
    {
     "data": {
      "text/plain": [
       "tensor([[0.3194, 0.6806],\n",
       "        [0.3027, 0.6973],\n",
       "        [0.3031, 0.6969],\n",
       "        [0.3030, 0.6970],\n",
       "        [0.3031, 0.6969],\n",
       "        [0.3032, 0.6968],\n",
       "        [0.3020, 0.6980],\n",
       "        [0.3020, 0.6980],\n",
       "        [0.3020, 0.6980],\n",
       "        [0.3020, 0.6980]], grad_fn=<DivBackward0>)"
      ]
     },
     "execution_count": 43,
     "metadata": {},
     "output_type": "execute_result"
    }
   ],
   "source": [
    "history[\"alpha_enc\"][101, :, :] / torch.sum(history[\"alpha_enc\"][101, :, :], dim=-1, keepdims=True)"
   ]
  },
  {
   "cell_type": "code",
   "execution_count": 38,
   "id": "450ad7f5",
   "metadata": {},
   "outputs": [
    {
     "data": {
      "text/plain": [
       "torch.return_types.min(\n",
       "values=tensor([[0.3029, 0.6802],\n",
       "        [0.3025, 0.6785],\n",
       "        [0.3039, 0.6778],\n",
       "        ...,\n",
       "        [0.3020, 0.6792],\n",
       "        [0.3020, 0.6800],\n",
       "        [0.3014, 0.6812]], grad_fn=<MinBackward0>),\n",
       "indices=tensor([[1, 0],\n",
       "        [3, 0],\n",
       "        [1, 0],\n",
       "        ...,\n",
       "        [8, 0],\n",
       "        [8, 0],\n",
       "        [8, 0]]))"
      ]
     },
     "execution_count": 38,
     "metadata": {},
     "output_type": "execute_result"
    }
   ],
   "source": [
    "import torch\n",
    "torch.min(history[\"est_pi\"], dim=1)"
   ]
  },
  {
   "cell_type": "code",
   "execution_count": null,
   "id": "6f8633d6",
   "metadata": {},
   "outputs": [],
   "source": []
  }
 ],
 "metadata": {
  "kernelspec": {
   "display_name": "Python 3 (ipykernel)",
   "language": "python",
   "name": "python3"
  },
  "language_info": {
   "codemirror_mode": {
    "name": "ipython",
    "version": 3
   },
   "file_extension": ".py",
   "mimetype": "text/x-python",
   "name": "python",
   "nbconvert_exporter": "python",
   "pygments_lexer": "ipython3",
   "version": "3.9.0"
  }
 },
 "nbformat": 4,
 "nbformat_minor": 5
}
