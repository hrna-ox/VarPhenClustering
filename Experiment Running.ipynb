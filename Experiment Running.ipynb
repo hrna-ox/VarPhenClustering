{
 "cells": [
  {
   "cell_type": "code",
   "execution_count": 7,
   "id": "a53222a5",
   "metadata": {},
   "outputs": [],
   "source": [
    "import json\n",
    "\n",
    "import torch\n",
    "import wandb\n",
    "\n",
    "from src.data_processing.data_loader import data_loader\n",
    "from src.models.Dir_VRNN.model import DirVRNN\n"
   ]
  },
  {
   "cell_type": "code",
   "execution_count": 40,
   "id": "30a6d8b7",
   "metadata": {},
   "outputs": [],
   "source": [
    "# Load Configuration \n",
    "with open(\"src/models/DIR_VRNN/run_config.json\", \"r\") as f:\n",
    "    run_config = json.load(f)\n",
    "    f.close()\n",
    "\n",
    "# Extract info\n",
    "data_config = run_config[\"data_config\"]\n",
    "model_config = run_config[\"model_config\"]\n",
    "training_config = run_config[\"training_config\"]"
   ]
  },
  {
   "cell_type": "code",
   "execution_count": 33,
   "id": "e6a61cf0",
   "metadata": {},
   "outputs": [
    {
     "name": "stderr",
     "output_type": "stream",
     "text": [
      "100%|██████████| 8328/8328 [00:30<00:00, 269.96it/s]\n"
     ]
    },
    {
     "name": "stdout",
     "output_type": "stream",
     "text": [
      "\n",
      "MIMIC data successfully loaded.\n",
      "\n",
      "Basic information \n",
      " Input shape: (8328, 10, 9), (8328, 4) \n",
      " Outcome Distribution: Death          26\n",
      "ICU          1321\n",
      "Ward         4121\n",
      "Discharge    2860\n",
      "dtype: int64\n"
     ]
    }
   ],
   "source": [
    "\n",
    "# Load and process data\n",
    "data_info = data_loader(**data_config)"
   ]
  },
  {
   "cell_type": "code",
   "execution_count": 38,
   "id": "fc1614d5",
   "metadata": {},
   "outputs": [],
   "source": [
    "# GPU and model setting\n",
    "device = torch.device(\"cuda\" if torch.cuda.is_available() else \"cpu\")\n",
    "torch.manual_seed(run_config[\"model_config\"][\"seed\"])\n",
    "torch.backends.cudnn.deterministic = True\n"
   ]
  },
  {
   "cell_type": "code",
   "execution_count": 43,
   "id": "e3fb2d96",
   "metadata": {},
   "outputs": [
    {
     "ename": "AttributeError",
     "evalue": "module 'src.models.Dir_VRNN' has no attribute 'DirVRNN'",
     "output_type": "error",
     "traceback": [
      "\u001b[1;31m---------------------------------------------------------------------------\u001b[0m",
      "\u001b[1;31mAttributeError\u001b[0m                            Traceback (most recent call last)",
      "Cell \u001b[1;32mIn[43], line 7\u001b[0m\n\u001b[0;32m      2\u001b[0m \u001b[39mimport\u001b[39;00m \u001b[39msrc\u001b[39;00m\u001b[39m.\u001b[39;00m\u001b[39mmodels\u001b[39;00m\u001b[39m.\u001b[39;00m\u001b[39mDir_VRNN\u001b[39;00m \u001b[39mas\u001b[39;00m \u001b[39mBaseModels\u001b[39;00m\n\u001b[0;32m      4\u001b[0m reload(BaseModels)\n\u001b[1;32m----> 7\u001b[0m model \u001b[39m=\u001b[39m BaseModels\u001b[39m.\u001b[39;49mDirVRNN(\u001b[39m*\u001b[39m\u001b[39m*\u001b[39mmodel_config)\u001b[39m.\u001b[39mto(device)\n\u001b[0;32m      8\u001b[0m model\u001b[39m.\u001b[39mfit(data_info\u001b[39m=\u001b[39mdata_info, train_info\u001b[39m=\u001b[39mtraining_config, run_config\u001b[39m=\u001b[39mrun_config)\n\u001b[0;32m      9\u001b[0m torch\u001b[39m.\u001b[39msave(model\u001b[39m.\u001b[39mstate_dict(), \u001b[39m\"\u001b[39m\u001b[39mDirVRNN.h5\u001b[39m\u001b[39m\"\u001b[39m)\n",
      "\u001b[1;31mAttributeError\u001b[0m: module 'src.models.Dir_VRNN' has no attribute 'DirVRNN'"
     ]
    }
   ],
   "source": [
    "from importlib import reload\n",
    "import src.models.Dir_VRNN.model as BaseModels\n",
    "\n",
    "reload(BaseModels)\n",
    "\n",
    "\n",
    "model = BaseModels.DirVRNN(**model_config).to(device)\n",
    "model.fit(data_info=data_info, train_info=training_config, run_config=run_config)\n",
    "torch.save(model.state_dict(), \"DirVRNN.h5\")"
   ]
  },
  {
   "cell_type": "code",
   "execution_count": 36,
   "id": "891e3aab",
   "metadata": {},
   "outputs": [
    {
     "data": {
      "text/plain": [
       "{'lr': 0.001, 'epochs': 5, 'bs': 128}"
      ]
     },
     "execution_count": 36,
     "metadata": {},
     "output_type": "execute_result"
    }
   ],
   "source": [
    "training_config"
   ]
  },
  {
   "cell_type": "code",
   "execution_count": null,
   "id": "5181d6f2",
   "metadata": {},
   "outputs": [],
   "source": []
  }
 ],
 "metadata": {
  "kernelspec": {
   "display_name": "Python 3 (ipykernel)",
   "language": "python",
   "name": "python3"
  },
  "language_info": {
   "codemirror_mode": {
    "name": "ipython",
    "version": 3
   },
   "file_extension": ".py",
   "mimetype": "text/x-python",
   "name": "python",
   "nbconvert_exporter": "python",
   "pygments_lexer": "ipython3",
   "version": "3.9.0"
  }
 },
 "nbformat": 4,
 "nbformat_minor": 5
}
